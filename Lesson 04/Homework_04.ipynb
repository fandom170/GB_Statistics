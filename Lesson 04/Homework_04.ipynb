{
 "cells": [
  {
   "cell_type": "code",
   "execution_count": 16,
   "id": "latter-spread",
   "metadata": {},
   "outputs": [],
   "source": [
    "import numpy as np\n",
    "import pandas as pd\n",
    "from scipy import stats as sc\n",
    "import math"
   ]
  },
  {
   "cell_type": "markdown",
   "id": "italian-enterprise",
   "metadata": {},
   "source": [
    "**Задача 1**\n",
    "\n",
    "О непрерывной равномерно распределенной случайной величине B известно, что ее дисперсия равна 0.2. Можно ли найти правую границу величины B и ее среднее значение зная, что левая граница равна 0.5? Если да, найдите ее"
   ]
  },
  {
   "cell_type": "markdown",
   "id": "domestic-bicycle",
   "metadata": {},
   "source": [
    "Т.к. распределение равномероное, можно воспользоваться соответствующей формулой:  \n",
    "$$D(X) = (b-a)^2 /12$$  \n",
    "после преобразования:  \n",
    "$$b = (12*D(X))^{1/2}+a$$"
   ]
  },
  {
   "cell_type": "code",
   "execution_count": 3,
   "id": "saved-africa",
   "metadata": {},
   "outputs": [],
   "source": [
    "a = 0.5\n",
    "D = 0.2"
   ]
  },
  {
   "cell_type": "code",
   "execution_count": 4,
   "id": "external-ambassador",
   "metadata": {
    "scrolled": true
   },
   "outputs": [
    {
     "data": {
      "text/plain": [
       "2.049193338482967"
      ]
     },
     "execution_count": 4,
     "metadata": {},
     "output_type": "execute_result"
    }
   ],
   "source": [
    "b = math.sqrt(12 * 0.2) + 0.5\n",
    "b"
   ]
  },
  {
   "cell_type": "markdown",
   "id": "focused-teddy",
   "metadata": {},
   "source": [
    "Медианное значение:    \n",
    "$$(a + b) * 1/2$$"
   ]
  },
  {
   "cell_type": "code",
   "execution_count": 5,
   "id": "great-voluntary",
   "metadata": {},
   "outputs": [
    {
     "data": {
      "text/plain": [
       "1.2745966692414834"
      ]
     },
     "execution_count": 5,
     "metadata": {},
     "output_type": "execute_result"
    }
   ],
   "source": [
    "med = (a + b) * 0.5\n",
    "med"
   ]
  },
  {
   "cell_type": "markdown",
   "id": "tight-trust",
   "metadata": {},
   "source": [
    "**Задача 2**\n",
    "\n",
    "Рост взрослого населения города X имеет нормальное распределение, причем, средний рост равен 174 см, а среднее квадратическое отклонение равно 8 см. посчитайте, какова вероятность того, что случайным образом выбранный взрослый человек имеет рост:\n",
    "1. больше 182 см?\n",
    "2. больше 190 см?\n",
    "3. от 166 см до 190 см?\n",
    "4. от 166 см до 182 см?\n",
    "5. от 158 см до 190 см?\n",
    "6. не выше 150 см или не ниже 190 см?\n",
    "7. не выше 150 см или не ниже 198 см?\n",
    "8. ниже 166 см?\n",
    "\n",
    "Задачу можно решить двумя способами: без использования сторонних библиотек (numpy, scipy, pandas и пр.), а затем проверить себя с помощью встроенных функций"
   ]
  },
  {
   "cell_type": "code",
   "execution_count": 12,
   "id": "advance-weight",
   "metadata": {},
   "outputs": [],
   "source": [
    "def pdf (mu, sigma, x):\n",
    "    fx = np.exp(-((x-mu)**2)/(2*sigma**2))/(sigma*np.sqrt(2*np.pi))\n",
    "    return fx"
   ]
  },
  {
   "cell_type": "code",
   "execution_count": 8,
   "id": "victorian-visit",
   "metadata": {},
   "outputs": [],
   "source": [
    "sigma = 8\n",
    "mu = 174"
   ]
  },
  {
   "cell_type": "code",
   "execution_count": 10,
   "id": "racial-magnitude",
   "metadata": {
    "scrolled": true
   },
   "outputs": [
    {
     "data": {
      "text/plain": [
       "64.0"
      ]
     },
     "execution_count": 10,
     "metadata": {},
     "output_type": "execute_result"
    }
   ],
   "source": [
    "variance = math.pow(sigma, 2)\n",
    "variance"
   ]
  },
  {
   "cell_type": "markdown",
   "id": "amber-sector",
   "metadata": {},
   "source": [
    "**1. больше 182 см?**"
   ]
  },
  {
   "cell_type": "markdown",
   "id": "ongoing-endorsement",
   "metadata": {},
   "source": [
    "182 - правая граница 1*сигма для нормального распределения. Т.е.:"
   ]
  },
  {
   "cell_type": "code",
   "execution_count": 29,
   "id": "large-jungle",
   "metadata": {},
   "outputs": [
    {
     "data": {
      "text/plain": [
       "0.15849999999999997"
      ]
     },
     "execution_count": 29,
     "metadata": {},
     "output_type": "execute_result"
    }
   ],
   "source": [
    "task_one = (1 - 0.683)/2\n",
    "task_one"
   ]
  },
  {
   "cell_type": "code",
   "execution_count": 28,
   "id": "agricultural-greek",
   "metadata": {},
   "outputs": [
    {
     "data": {
      "text/plain": [
       "0.15865525393145707"
      ]
     },
     "execution_count": 28,
     "metadata": {},
     "output_type": "execute_result"
    }
   ],
   "source": [
    "1 - sc.norm.cdf(182, mu, sigma)"
   ]
  },
  {
   "cell_type": "markdown",
   "id": "alone-photograph",
   "metadata": {},
   "source": [
    "**2. больше 190 см?**"
   ]
  },
  {
   "cell_type": "markdown",
   "id": "collected-brooks",
   "metadata": {},
   "source": [
    "190 - правая граница 2*сигма для нормального распределения. Т.е.:"
   ]
  },
  {
   "cell_type": "code",
   "execution_count": 26,
   "id": "killing-advice",
   "metadata": {},
   "outputs": [
    {
     "data": {
      "text/plain": [
       "0.02300000000000002"
      ]
     },
     "execution_count": 26,
     "metadata": {},
     "output_type": "execute_result"
    }
   ],
   "source": [
    "task_two = (1 - 0.954)/2\n",
    "task_two"
   ]
  },
  {
   "cell_type": "code",
   "execution_count": 21,
   "id": "presidential-issue",
   "metadata": {
    "scrolled": true
   },
   "outputs": [
    {
     "data": {
      "text/plain": [
       "0.02275013194817921"
      ]
     },
     "execution_count": 21,
     "metadata": {},
     "output_type": "execute_result"
    }
   ],
   "source": [
    "1 - sc.norm.cdf(190, mu, sigma)"
   ]
  },
  {
   "cell_type": "markdown",
   "id": "graduate-public",
   "metadata": {},
   "source": [
    "**3. от 166 см до 190 см?**"
   ]
  },
  {
   "cell_type": "markdown",
   "id": "retired-reasoning",
   "metadata": {},
   "source": [
    "190 - правая граница 2 * сигма для нормального распределения,  \n",
    "166 - левая граница 1 * сигма для нормального распределения.  \n",
    "Т.е.:"
   ]
  },
  {
   "cell_type": "code",
   "execution_count": 43,
   "id": "square-integration",
   "metadata": {},
   "outputs": [
    {
     "data": {
      "text/plain": [
       "0.8185"
      ]
     },
     "execution_count": 43,
     "metadata": {},
     "output_type": "execute_result"
    }
   ],
   "source": [
    "task_three = 0.954/2 + 0.683/2\n",
    "task_three"
   ]
  },
  {
   "cell_type": "code",
   "execution_count": 20,
   "id": "arranged-bhutan",
   "metadata": {},
   "outputs": [
    {
     "data": {
      "text/plain": [
       "0.8185946141203637"
      ]
     },
     "execution_count": 20,
     "metadata": {},
     "output_type": "execute_result"
    }
   ],
   "source": [
    "sc.norm.cdf(190, mu, sigma) - sc.norm.cdf(166, mu, sigma)"
   ]
  },
  {
   "cell_type": "markdown",
   "id": "damaged-checkout",
   "metadata": {},
   "source": [
    "**4. от 166 см до 182 см?**"
   ]
  },
  {
   "cell_type": "markdown",
   "id": "adopted-residence",
   "metadata": {},
   "source": [
    "182 - правая граница 1*сигма для нормального распределения,  \n",
    "166 - левая граница 1*сигма для нормального распределения.  \n",
    "Т.е. стандартный интервал +/- 1*сигма:"
   ]
  },
  {
   "cell_type": "code",
   "execution_count": 40,
   "id": "juvenile-humor",
   "metadata": {},
   "outputs": [
    {
     "data": {
      "text/plain": [
       "0.683"
      ]
     },
     "execution_count": 40,
     "metadata": {},
     "output_type": "execute_result"
    }
   ],
   "source": [
    "0.683"
   ]
  },
  {
   "cell_type": "code",
   "execution_count": 39,
   "id": "double-custom",
   "metadata": {},
   "outputs": [
    {
     "data": {
      "text/plain": [
       "0.6826894921370859"
      ]
     },
     "execution_count": 39,
     "metadata": {},
     "output_type": "execute_result"
    }
   ],
   "source": [
    "sc.norm.cdf(182, mu, sigma) - sc.norm.cdf(166, mu, sigma)"
   ]
  },
  {
   "cell_type": "markdown",
   "id": "lined-reunion",
   "metadata": {},
   "source": [
    "**5. от 158 см до 190 см?**"
   ]
  },
  {
   "cell_type": "markdown",
   "id": "broadband-congo",
   "metadata": {},
   "source": [
    "190 - правая граница 2*сигма для нормального распределения,  \n",
    "158 - левая граница 2*сигма для нормального распределения.  \n",
    "Т.е. стандартный интервал +/- 2 * сигма:"
   ]
  },
  {
   "cell_type": "code",
   "execution_count": 42,
   "id": "white-radio",
   "metadata": {},
   "outputs": [
    {
     "data": {
      "text/plain": [
       "0.954"
      ]
     },
     "execution_count": 42,
     "metadata": {},
     "output_type": "execute_result"
    }
   ],
   "source": [
    "0.954"
   ]
  },
  {
   "cell_type": "code",
   "execution_count": 22,
   "id": "perfect-motorcycle",
   "metadata": {},
   "outputs": [
    {
     "data": {
      "text/plain": [
       "0.9544997361036416"
      ]
     },
     "execution_count": 22,
     "metadata": {},
     "output_type": "execute_result"
    }
   ],
   "source": [
    "sc.norm.cdf(190, mu, sigma) - sc.norm.cdf(158, mu, sigma)"
   ]
  },
  {
   "cell_type": "markdown",
   "id": "afraid-relevance",
   "metadata": {},
   "source": [
    "**6.не выше 150 см или не ниже 190 см?**"
   ]
  },
  {
   "cell_type": "markdown",
   "id": "practical-airport",
   "metadata": {},
   "source": [
    "190 - правая граница 2*сигма для нормального распределения,  \n",
    "150 - левая граница 3*сигма для нормального распределения.  \n",
    "Т.е.:"
   ]
  },
  {
   "cell_type": "code",
   "execution_count": 59,
   "id": "increased-retrieval",
   "metadata": {},
   "outputs": [
    {
     "data": {
      "text/plain": [
       "0.024399999999999977"
      ]
     },
     "execution_count": 59,
     "metadata": {},
     "output_type": "execute_result"
    }
   ],
   "source": [
    "task_six = 1 - (0.9972/2 + 0.954/2)\n",
    "task_six "
   ]
  },
  {
   "cell_type": "code",
   "execution_count": 77,
   "id": "protected-motorcycle",
   "metadata": {},
   "outputs": [
    {
     "data": {
      "text/plain": [
       "0.0241000299798093"
      ]
     },
     "execution_count": 77,
     "metadata": {},
     "output_type": "execute_result"
    }
   ],
   "source": [
    "(1 - sc.norm.cdf(190, mu, sigma)) + sc.norm.cdf(150, mu, sigma) "
   ]
  },
  {
   "cell_type": "markdown",
   "id": "unlikely-gibraltar",
   "metadata": {},
   "source": [
    "**7. Не выше 150 см или не ниже 198 см**"
   ]
  },
  {
   "cell_type": "code",
   "execution_count": null,
   "id": "solar-elimination",
   "metadata": {},
   "outputs": [],
   "source": [
    "198 - правая граница 3*сигма для нормального распределения,  \n",
    "150 - левая граница 3*сигма для нормального распределения.  \n",
    "Т.е.:"
   ]
  },
  {
   "cell_type": "code",
   "execution_count": 67,
   "id": "fatal-olympus",
   "metadata": {
    "scrolled": true
   },
   "outputs": [
    {
     "data": {
      "text/plain": [
       "0.0028000000000000247"
      ]
     },
     "execution_count": 67,
     "metadata": {},
     "output_type": "execute_result"
    }
   ],
   "source": [
    "task_seven = 1 - 0.9972\n",
    "task_seven"
   ]
  },
  {
   "cell_type": "code",
   "execution_count": 75,
   "id": "black-newark",
   "metadata": {},
   "outputs": [
    {
     "data": {
      "text/plain": [
       "0.0013498980316300933"
      ]
     },
     "execution_count": 75,
     "metadata": {},
     "output_type": "execute_result"
    }
   ],
   "source": [
    "lower = sc.norm.cdf(150, mu, sigma)\n",
    "lower"
   ]
  },
  {
   "cell_type": "code",
   "execution_count": 74,
   "id": "guilty-collapse",
   "metadata": {},
   "outputs": [
    {
     "data": {
      "text/plain": [
       "0.0013498980316301035"
      ]
     },
     "execution_count": 74,
     "metadata": {},
     "output_type": "execute_result"
    }
   ],
   "source": [
    "upper = 1 - sc.norm.cdf(198, mu, sigma)\n",
    "upper"
   ]
  },
  {
   "cell_type": "code",
   "execution_count": 76,
   "id": "alternate-inventory",
   "metadata": {},
   "outputs": [
    {
     "data": {
      "text/plain": [
       "0.0026997960632601965"
      ]
     },
     "execution_count": 76,
     "metadata": {},
     "output_type": "execute_result"
    }
   ],
   "source": [
    "total = upper + lower\n",
    "total"
   ]
  },
  {
   "cell_type": "markdown",
   "id": "engaging-delay",
   "metadata": {},
   "source": [
    "**8. ниже 166 см?**"
   ]
  },
  {
   "cell_type": "markdown",
   "id": "respective-burner",
   "metadata": {},
   "source": [
    "166 - левая граница 1*сигма для нормального распределения.  \n",
    "Т.е.:"
   ]
  },
  {
   "cell_type": "code",
   "execution_count": 66,
   "id": "functional-husband",
   "metadata": {},
   "outputs": [
    {
     "data": {
      "text/plain": [
       "0.15849999999999997"
      ]
     },
     "execution_count": 66,
     "metadata": {},
     "output_type": "execute_result"
    }
   ],
   "source": [
    "task_eight = (1 - 0.683)/2\n",
    "task_eight"
   ]
  },
  {
   "cell_type": "code",
   "execution_count": 65,
   "id": "average-tours",
   "metadata": {},
   "outputs": [
    {
     "data": {
      "text/plain": [
       "0.15865525393145707"
      ]
     },
     "execution_count": 65,
     "metadata": {},
     "output_type": "execute_result"
    }
   ],
   "source": [
    "sc.norm.cdf(166, mu, sigma)"
   ]
  },
  {
   "cell_type": "markdown",
   "id": "german-health",
   "metadata": {},
   "source": [
    "**Задача 3 (Дополнительно)**\n",
    "\n",
    "Коробки с шоколадом упаковываются автоматически. Их средняя масса равна 1.06 кг. Известно, что 5% коробок имеют массу, меньшую 1 кг. Найдите: а) среднее квадратическое отклонение массы коробки, б) процент коробок, имеющих массу больше 1.1 кг.\n",
    "\n",
    "Подсказка. 1. Можно считать, что распределение массы коробки нормальное. 2. Найдите такое значение scale, для которого значение cdf(x=1, loc=1.06, scale=scale) близко к 0.05. Точности 0.0001 будет достаточно."
   ]
  },
  {
   "cell_type": "code",
   "execution_count": 81,
   "id": "regular-tulsa",
   "metadata": {},
   "outputs": [],
   "source": [
    "mu = 1.06\n",
    "x = 1"
   ]
  },
  {
   "cell_type": "code",
   "execution_count": 124,
   "id": "paperback-proxy",
   "metadata": {},
   "outputs": [],
   "source": [
    "sigma_final = None\n",
    "for counter in range (1, 100000, 1):\n",
    "    sigma = counter/100000\n",
    "    P = sc.norm.cdf(x, mu, sigma)    \n",
    "    #if (np.round(P, 4) <= 0.05 + 0.0001) and (np.round(P, 4) >= 0.05 - 0.0001):\n",
    "    if np.round(P, 4) == 0.05:\n",
    "        sigma_final = sigma\n",
    "        break"
   ]
  },
  {
   "cell_type": "markdown",
   "id": "paperback-orange",
   "metadata": {},
   "source": [
    "Среднеквадратическое отклонение массы коробки:"
   ]
  },
  {
   "cell_type": "code",
   "execution_count": 125,
   "id": "russian-benjamin",
   "metadata": {
    "scrolled": true
   },
   "outputs": [
    {
     "data": {
      "text/plain": [
       "0.03647"
      ]
     },
     "execution_count": 125,
     "metadata": {},
     "output_type": "execute_result"
    }
   ],
   "source": [
    "sigma_final"
   ]
  },
  {
   "cell_type": "markdown",
   "id": "forty-yahoo",
   "metadata": {},
   "source": [
    "Проверка"
   ]
  },
  {
   "cell_type": "code",
   "execution_count": 126,
   "id": "durable-hormone",
   "metadata": {
    "scrolled": true
   },
   "outputs": [
    {
     "data": {
      "text/plain": [
       "0.04996554167984498"
      ]
     },
     "execution_count": 126,
     "metadata": {},
     "output_type": "execute_result"
    }
   ],
   "source": [
    "sc.norm.cdf(x, mu, sigma_final)"
   ]
  },
  {
   "cell_type": "markdown",
   "id": "quarterly-jamaica",
   "metadata": {},
   "source": [
    "Процент коробок, имеющих массу больше 1,1 кг"
   ]
  },
  {
   "cell_type": "code",
   "execution_count": 127,
   "id": "surgical-shelf",
   "metadata": {},
   "outputs": [
    {
     "data": {
      "text/plain": [
       "13.636618948286916"
      ]
     },
     "execution_count": 127,
     "metadata": {},
     "output_type": "execute_result"
    }
   ],
   "source": [
    "(1 - sc.norm.cdf(1.1, mu, sigma))*100"
   ]
  },
  {
   "cell_type": "code",
   "execution_count": null,
   "id": "split-declaration",
   "metadata": {},
   "outputs": [],
   "source": []
  },
  {
   "cell_type": "code",
   "execution_count": null,
   "id": "vital-lending",
   "metadata": {},
   "outputs": [],
   "source": []
  }
 ],
 "metadata": {
  "kernelspec": {
   "display_name": "Python 3",
   "language": "python",
   "name": "python3"
  },
  "language_info": {
   "codemirror_mode": {
    "name": "ipython",
    "version": 3
   },
   "file_extension": ".py",
   "mimetype": "text/x-python",
   "name": "python",
   "nbconvert_exporter": "python",
   "pygments_lexer": "ipython3",
   "version": "3.9.1"
  }
 },
 "nbformat": 4,
 "nbformat_minor": 5
}
