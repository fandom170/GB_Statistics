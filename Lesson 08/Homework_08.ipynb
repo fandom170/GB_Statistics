{
 "cells": [
  {
   "cell_type": "code",
   "execution_count": 43,
   "id": "handled-missouri",
   "metadata": {},
   "outputs": [],
   "source": [
    "import numpy as np\n",
    "import pandas as pd"
   ]
  },
  {
   "cell_type": "code",
   "execution_count": 44,
   "id": "competitive-genetics",
   "metadata": {},
   "outputs": [],
   "source": [
    "from scipy import stats"
   ]
  },
  {
   "cell_type": "markdown",
   "id": "psychological-generic",
   "metadata": {},
   "source": [
    "**Задача 1**\n",
    "\n",
    "Провести дисперсионный анализ для определения того, есть ли различия среднего роста среди взрослых футболистов, хоккеистов и штангистов. Даны значения роста в трех группах случайно выбранных спортсменов:\n",
    "\n",
    "football_players = [173, 175, 180, 178, 177, 185, 183, 182]\n",
    "hockey_players = [177, 179, 180, 188, 177, 172, 171, 184, 180]\n",
    "lifters = [172, 173, 169, 177, 166, 180, 178, 177, 172, 166, 170]"
   ]
  },
  {
   "cell_type": "code",
   "execution_count": 45,
   "id": "tamil-depression",
   "metadata": {},
   "outputs": [],
   "source": [
    "football_players = np.array([173, 175, 180, 178, 177, 185, 183, 182])"
   ]
  },
  {
   "cell_type": "code",
   "execution_count": 46,
   "id": "golden-graph",
   "metadata": {},
   "outputs": [],
   "source": [
    "hockey_players = np.array([177, 179, 180, 188, 177, 172, 171, 184, 180])"
   ]
  },
  {
   "cell_type": "code",
   "execution_count": 47,
   "id": "divided-burke",
   "metadata": {},
   "outputs": [],
   "source": [
    "lifters = np.array([172, 173, 169, 177, 166, 180, 178, 177, 172, 166, 170])"
   ]
  },
  {
   "cell_type": "code",
   "execution_count": 48,
   "id": "loose-import",
   "metadata": {},
   "outputs": [],
   "source": [
    "n_footbal = football_players.shape[0]\n",
    "n_hockey = hockey_players.shape[0]\n",
    "n_lifters = lifters.shape[0]"
   ]
  },
  {
   "cell_type": "markdown",
   "id": "novel-diary",
   "metadata": {},
   "source": [
    "Средние величины по каждой из групп"
   ]
  },
  {
   "cell_type": "code",
   "execution_count": 49,
   "id": "impressed-footage",
   "metadata": {},
   "outputs": [],
   "source": [
    "footbal_mean = football_players.mean()\n",
    "hockey_mean = hockey_players.mean()\n",
    "lifters_mean = lifters.mean()"
   ]
  },
  {
   "cell_type": "code",
   "execution_count": 50,
   "id": "surgical-polymer",
   "metadata": {},
   "outputs": [
    {
     "data": {
      "text/plain": [
       "179.125"
      ]
     },
     "execution_count": 50,
     "metadata": {},
     "output_type": "execute_result"
    }
   ],
   "source": [
    "footbal_mean"
   ]
  },
  {
   "cell_type": "code",
   "execution_count": 51,
   "id": "corrected-discretion",
   "metadata": {},
   "outputs": [
    {
     "data": {
      "text/plain": [
       "178.66666666666666"
      ]
     },
     "execution_count": 51,
     "metadata": {},
     "output_type": "execute_result"
    }
   ],
   "source": [
    "hockey_mean"
   ]
  },
  {
   "cell_type": "code",
   "execution_count": 52,
   "id": "substantial-drive",
   "metadata": {
    "scrolled": true
   },
   "outputs": [
    {
     "data": {
      "text/plain": [
       "172.72727272727272"
      ]
     },
     "execution_count": 52,
     "metadata": {},
     "output_type": "execute_result"
    }
   ],
   "source": [
    "lifters_mean"
   ]
  },
  {
   "cell_type": "markdown",
   "id": "together-arcade",
   "metadata": {},
   "source": [
    "Находим статистическую значимость различия среднего по выборкам"
   ]
  },
  {
   "cell_type": "markdown",
   "id": "radical-siemens",
   "metadata": {},
   "source": [
    "Среднее по всем трем группам"
   ]
  },
  {
   "cell_type": "code",
   "execution_count": 53,
   "id": "actual-entertainment",
   "metadata": {
    "scrolled": true
   },
   "outputs": [
    {
     "data": {
      "text/plain": [
       "176.46428571428572"
      ]
     },
     "execution_count": 53,
     "metadata": {},
     "output_type": "execute_result"
    }
   ],
   "source": [
    "total = np.concatenate([football_players, hockey_players, lifters])\n",
    "total_mean = total.mean()\n",
    "total_mean"
   ]
  },
  {
   "cell_type": "markdown",
   "id": "juvenile-neutral",
   "metadata": {},
   "source": [
    "Найдем сумму квадратов отклонений и сумму квадратов отклонений остаточных значений.  \n",
    "Значения S_f и S_res"
   ]
  },
  {
   "cell_type": "code",
   "execution_count": 54,
   "id": "medical-explorer",
   "metadata": {},
   "outputs": [
    {
     "data": {
      "text/plain": [
       "253.9074675324678"
      ]
     },
     "execution_count": 54,
     "metadata": {},
     "output_type": "execute_result"
    }
   ],
   "source": [
    "S2_f = n_footbal * ((footbal_mean - total_mean) ** 2) + n_hockey * ((hockey_mean - total_mean) ** 2) + n_lifters * ((lifters_mean - total_mean) ** 2)\n",
    "\n",
    "S2_f"
   ]
  },
  {
   "cell_type": "code",
   "execution_count": 55,
   "id": "christian-quilt",
   "metadata": {
    "scrolled": false
   },
   "outputs": [
    {
     "data": {
      "text/plain": [
       "577.0568181818182"
      ]
     },
     "execution_count": 55,
     "metadata": {},
     "output_type": "execute_result"
    }
   ],
   "source": [
    "S2_res = ((football_players - footbal_mean) ** 2).sum() + ((hockey_players - hockey_mean) ** 2).sum() + ((lifters - lifters_mean) ** 2).sum()\n",
    "S2_res"
   ]
  },
  {
   "cell_type": "markdown",
   "id": "electronic-average",
   "metadata": {},
   "source": [
    "Проверяем равенство"
   ]
  },
  {
   "cell_type": "code",
   "execution_count": 56,
   "id": "incoming-humidity",
   "metadata": {
    "scrolled": true
   },
   "outputs": [
    {
     "data": {
      "text/plain": [
       "830.964285714286"
      ]
     },
     "execution_count": 56,
     "metadata": {},
     "output_type": "execute_result"
    }
   ],
   "source": [
    "S2_f + S2_res"
   ]
  },
  {
   "cell_type": "markdown",
   "id": "helpful-kenya",
   "metadata": {},
   "source": [
    "Общая дисперсия"
   ]
  },
  {
   "cell_type": "code",
   "execution_count": 65,
   "id": "loved-wells",
   "metadata": {},
   "outputs": [],
   "source": [
    "n = n_footbal + n_hockey + n_lifters"
   ]
  },
  {
   "cell_type": "code",
   "execution_count": 66,
   "id": "eleven-marks",
   "metadata": {
    "scrolled": true
   },
   "outputs": [
    {
     "data": {
      "text/plain": [
       "830.9642857142854"
      ]
     },
     "execution_count": 66,
     "metadata": {},
     "output_type": "execute_result"
    }
   ],
   "source": [
    "S2 = ((total - total_mean) ** 2).sum()\n",
    "S2"
   ]
  },
  {
   "cell_type": "code",
   "execution_count": 67,
   "id": "married-registrar",
   "metadata": {},
   "outputs": [
    {
     "data": {
      "text/plain": [
       "30.776455026455015"
      ]
     },
     "execution_count": 67,
     "metadata": {},
     "output_type": "execute_result"
    }
   ],
   "source": [
    "sigma_2 = S2/(n - 1)\n",
    "sigma_2"
   ]
  },
  {
   "cell_type": "markdown",
   "id": "eleven-powell",
   "metadata": {},
   "source": [
    "С учетом различия в последнем знаке, равенство можно считать подтвержденным"
   ]
  },
  {
   "cell_type": "code",
   "execution_count": 68,
   "id": "fifteen-donna",
   "metadata": {},
   "outputs": [],
   "source": [
    "k = 3"
   ]
  },
  {
   "cell_type": "code",
   "execution_count": 69,
   "id": "hourly-incentive",
   "metadata": {},
   "outputs": [
    {
     "data": {
      "text/plain": [
       "2"
      ]
     },
     "execution_count": 69,
     "metadata": {},
     "output_type": "execute_result"
    }
   ],
   "source": [
    "k1 = k - 1\n",
    "k1"
   ]
  },
  {
   "cell_type": "code",
   "execution_count": 70,
   "id": "contemporary-narrow",
   "metadata": {},
   "outputs": [
    {
     "data": {
      "text/plain": [
       "25"
      ]
     },
     "execution_count": 70,
     "metadata": {},
     "output_type": "execute_result"
    }
   ],
   "source": [
    "k2 = n - k\n",
    "k2"
   ]
  },
  {
   "cell_type": "markdown",
   "id": "stock-calculator",
   "metadata": {},
   "source": [
    "найдем факторную и остаточную дисперсии"
   ]
  },
  {
   "cell_type": "code",
   "execution_count": 72,
   "id": "dimensional-alcohol",
   "metadata": {},
   "outputs": [
    {
     "data": {
      "text/plain": [
       "(126.9537337662339, 23.08227272727273)"
      ]
     },
     "execution_count": 72,
     "metadata": {},
     "output_type": "execute_result"
    }
   ],
   "source": [
    "sigma2_f = S2_f / k1\n",
    "sigma2_res = S2_res / k2\n",
    "\n",
    "sigma2_f, sigma2_res"
   ]
  },
  {
   "cell_type": "markdown",
   "id": "pressing-character",
   "metadata": {},
   "source": [
    "Вычисляем статистику"
   ]
  },
  {
   "cell_type": "code",
   "execution_count": 73,
   "id": "twelve-procedure",
   "metadata": {},
   "outputs": [
    {
     "data": {
      "text/plain": [
       "5.500053450812598"
      ]
     },
     "execution_count": 73,
     "metadata": {},
     "output_type": "execute_result"
    }
   ],
   "source": [
    "T = sigma2_f / sigma2_res\n",
    "T"
   ]
  },
  {
   "cell_type": "markdown",
   "id": "competitive-reynolds",
   "metadata": {},
   "source": [
    "Считаем критическое значение статистики Фишера при уровне значимости 0.05"
   ]
  },
  {
   "cell_type": "code",
   "execution_count": 30,
   "id": "fitting-nomination",
   "metadata": {},
   "outputs": [
    {
     "data": {
      "text/plain": [
       "3.3851899614491687"
      ]
     },
     "execution_count": 30,
     "metadata": {},
     "output_type": "execute_result"
    }
   ],
   "source": [
    "alpha = 0.05\n",
    "\n",
    "F_crit = stats.f.ppf(1 - alpha, k1, k2)\n",
    "F_crit"
   ]
  },
  {
   "cell_type": "code",
   "execution_count": 33,
   "id": "hired-connection",
   "metadata": {
    "scrolled": true
   },
   "outputs": [
    {
     "data": {
      "text/plain": [
       "True"
      ]
     },
     "execution_count": 33,
     "metadata": {},
     "output_type": "execute_result"
    }
   ],
   "source": [
    "T > F_crit"
   ]
  },
  {
   "cell_type": "code",
   "execution_count": 79,
   "id": "secondary-manor",
   "metadata": {},
   "outputs": [
    {
     "data": {
      "text/plain": [
       "0.010482206918698611"
      ]
     },
     "execution_count": 79,
     "metadata": {},
     "output_type": "execute_result"
    }
   ],
   "source": [
    "p = 1 - stats.f.cdf(T, k1, k2)\n",
    "p"
   ]
  },
  {
   "cell_type": "markdown",
   "id": "large-thermal",
   "metadata": {},
   "source": [
    "Следовательно, гипотеза H0 (о равенстве среднего по выборкам) отвергается."
   ]
  },
  {
   "cell_type": "markdown",
   "id": "introductory-customs",
   "metadata": {},
   "source": [
    "Попробуем вычислить эмпирическое корреляционное отношение $\\eta^2$:"
   ]
  },
  {
   "cell_type": "code",
   "execution_count": 76,
   "id": "federal-pacific",
   "metadata": {
    "scrolled": true
   },
   "outputs": [
    {
     "data": {
      "text/plain": [
       "0.30555761769498"
      ]
     },
     "execution_count": 76,
     "metadata": {},
     "output_type": "execute_result"
    }
   ],
   "source": [
    "eta2 = S2_f / S2\n",
    "eta2"
   ]
  },
  {
   "cell_type": "markdown",
   "id": "public-amendment",
   "metadata": {},
   "source": [
    "Таким образом, только 30% разницы роста определяются выбранным видом спорта"
   ]
  },
  {
   "cell_type": "code",
   "execution_count": 80,
   "id": "considerable-judge",
   "metadata": {
    "scrolled": true
   },
   "outputs": [
    {
     "data": {
      "text/plain": [
       "0.5527726636647112"
      ]
     },
     "execution_count": 80,
     "metadata": {},
     "output_type": "execute_result"
    }
   ],
   "source": [
    "eta = np.sqrt(eta2)\n",
    "eta"
   ]
  },
  {
   "cell_type": "markdown",
   "id": "catholic-principal",
   "metadata": {},
   "source": [
    "Можно считать, что связь умеренная"
   ]
  },
  {
   "cell_type": "code",
   "execution_count": 78,
   "id": "intermediate-following",
   "metadata": {},
   "outputs": [
    {
     "data": {
      "text/plain": [
       "F_onewayResult(statistic=5.500053450812596, pvalue=0.010482206918698694)"
      ]
     },
     "execution_count": 78,
     "metadata": {},
     "output_type": "execute_result"
    }
   ],
   "source": [
    "from scipy.stats import f_oneway\n",
    "f_oneway(football_players, hockey_players, lifters)"
   ]
  },
  {
   "cell_type": "markdown",
   "id": "wrong-clerk",
   "metadata": {},
   "source": [
    "Величины, рассчитанные вручную и с помощью пакеты совпадают."
   ]
  },
  {
   "cell_type": "code",
   "execution_count": null,
   "id": "amazing-acting",
   "metadata": {},
   "outputs": [],
   "source": []
  }
 ],
 "metadata": {
  "kernelspec": {
   "display_name": "Python 3",
   "language": "python",
   "name": "python3"
  },
  "language_info": {
   "codemirror_mode": {
    "name": "ipython",
    "version": 3
   },
   "file_extension": ".py",
   "mimetype": "text/x-python",
   "name": "python",
   "nbconvert_exporter": "python",
   "pygments_lexer": "ipython3",
   "version": "3.9.1"
  }
 },
 "nbformat": 4,
 "nbformat_minor": 5
}
