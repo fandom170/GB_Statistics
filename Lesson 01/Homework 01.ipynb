{
 "cells": [
  {
   "cell_type": "code",
   "execution_count": 1,
   "id": "innocent-arrow",
   "metadata": {},
   "outputs": [],
   "source": [
    "import numpy as np"
   ]
  },
  {
   "cell_type": "code",
   "execution_count": 2,
   "id": "spectacular-there",
   "metadata": {},
   "outputs": [],
   "source": [
    "def arrangement(m, n):\n",
    "    a = np.math.factorial(n)/(np.math.factorial(n - m))\n",
    "    return a"
   ]
  },
  {
   "cell_type": "code",
   "execution_count": 3,
   "id": "boring-stocks",
   "metadata": {},
   "outputs": [],
   "source": [
    "def permutations(n):\n",
    "    p = np.math.factorial(n)\n",
    "    return p"
   ]
  },
  {
   "cell_type": "code",
   "execution_count": 4,
   "id": "assisted-blank",
   "metadata": {},
   "outputs": [],
   "source": [
    "def combination (m, n):\n",
    "    c = np.math.factorial(n)/(np.math.factorial(m)*np.math.factorial(n - m))\n",
    "    return c"
   ]
  },
  {
   "cell_type": "markdown",
   "id": "authentic-scanner",
   "metadata": {},
   "source": [
    "**Задача 1**\n",
    "\n",
    "Группа студентов изучает 10 различных дисциплин. Сколькими способами можно составить расписание на понедельник, если в этот день должно быть 4 разных занятия?"
   ]
  },
  {
   "cell_type": "markdown",
   "id": "falling-restoration",
   "metadata": {},
   "source": [
    "Т.к. предполагается выборка из четыпех элементов ипорядок имеет значение, то следует использовать размещение"
   ]
  },
  {
   "cell_type": "code",
   "execution_count": 11,
   "id": "intellectual-arthur",
   "metadata": {},
   "outputs": [
    {
     "name": "stdout",
     "output_type": "stream",
     "text": [
      "5040.0\n"
     ]
    }
   ],
   "source": [
    "A = arrangement(4, 10)\n",
    "print(A)"
   ]
  },
  {
   "cell_type": "markdown",
   "id": "extended-boost",
   "metadata": {},
   "source": [
    "**Задача 2**\n",
    "\n",
    "Из колоды в 52 карты вынимают случайным образом 4 карты. Найти число исходов, соответствующих тому, что был вытянут хотя бы один туз."
   ]
  },
  {
   "cell_type": "markdown",
   "id": "competent-rally",
   "metadata": {},
   "source": [
    "Хотя бы один туз, ознчает возможные варианты от 1 до 4 тузов включительно.\n",
    "По аналогии с задачей на занятии:"
   ]
  },
  {
   "cell_type": "code",
   "execution_count": 14,
   "id": "differential-norwegian",
   "metadata": {},
   "outputs": [
    {
     "name": "stdout",
     "output_type": "stream",
     "text": [
      "4.0\n",
      "6.0\n",
      "4.0\n",
      "1.0\n"
     ]
    }
   ],
   "source": [
    "one = combination(1, 4)\n",
    "two = combination(2, 4)\n",
    "three = combination(3, 4)\n",
    "four = combination(4, 4)\n",
    "print(one)\n",
    "print(two)\n",
    "print(three)\n",
    "print(four)"
   ]
  },
  {
   "cell_type": "code",
   "execution_count": 15,
   "id": "absent-suspension",
   "metadata": {},
   "outputs": [
    {
     "name": "stdout",
     "output_type": "stream",
     "text": [
      "69184.0\n"
     ]
    }
   ],
   "source": [
    "one_ace = combination(3, 52-4) * one\n",
    "print(one_ace)"
   ]
  },
  {
   "cell_type": "code",
   "execution_count": 16,
   "id": "automated-screw",
   "metadata": {},
   "outputs": [
    {
     "name": "stdout",
     "output_type": "stream",
     "text": [
      "6768.0\n"
     ]
    }
   ],
   "source": [
    "two_aces = combination(2, 52-4) * two\n",
    "print(two_aces)"
   ]
  },
  {
   "cell_type": "code",
   "execution_count": 18,
   "id": "lined-calendar",
   "metadata": {},
   "outputs": [
    {
     "name": "stdout",
     "output_type": "stream",
     "text": [
      "192.0\n"
     ]
    }
   ],
   "source": [
    "three_aces = combination(1, 52-4) * three\n",
    "print(three_aces)"
   ]
  },
  {
   "cell_type": "code",
   "execution_count": 21,
   "id": "close-truck",
   "metadata": {},
   "outputs": [
    {
     "data": {
      "text/plain": [
       "1.0"
      ]
     },
     "execution_count": 21,
     "metadata": {},
     "output_type": "execute_result"
    }
   ],
   "source": [
    "#для сохранения логики изложения\n",
    "four_aces = combination(0, 52-4) * four\n",
    "four_aces"
   ]
  },
  {
   "cell_type": "code",
   "execution_count": 23,
   "id": "robust-palestinian",
   "metadata": {},
   "outputs": [
    {
     "name": "stdout",
     "output_type": "stream",
     "text": [
      "76145.0\n"
     ]
    }
   ],
   "source": [
    "total = one_ace + two_aces + three_aces + four_aces\n",
    "print(total)"
   ]
  },
  {
   "cell_type": "markdown",
   "id": "emerging-morgan",
   "metadata": {},
   "source": [
    "**Задача 3**\n",
    "\n",
    "Семь человек рассаживаются наудачу на скамейке. Какова вероятность того, что два определённых человека будут сидеть рядом?"
   ]
  },
  {
   "cell_type": "markdown",
   "id": "macro-score",
   "metadata": {},
   "source": [
    "В задаче есть некоторая неопределенность относительно формы скамейки, если она круглая то вероятность будет чуть выше.\n",
    "Т.к. использовано слово вероятность, то следует использовать формулу P=m/n"
   ]
  },
  {
   "cell_type": "markdown",
   "id": "greenhouse-jewelry",
   "metadata": {},
   "source": [
    "общее количество вариантов размещения человек на лавочке следует считать используя перестановку"
   ]
  },
  {
   "cell_type": "code",
   "execution_count": 30,
   "id": "catholic-generic",
   "metadata": {},
   "outputs": [
    {
     "name": "stdout",
     "output_type": "stream",
     "text": [
      "5040\n"
     ]
    }
   ],
   "source": [
    "p = permutations(7)\n",
    "print(p)"
   ]
  },
  {
   "cell_type": "markdown",
   "id": "broke-chest",
   "metadata": {},
   "source": [
    "Исходя из условий заадчи значимым является состояние, когда два определенных человека находятся рядом (как вариант)  вне зависимости от их порядка. За исключением двух определенных людей остальные могу сесть различными способами, т.е. опять перестановка"
   ]
  },
  {
   "cell_type": "code",
   "execution_count": 31,
   "id": "informational-billy",
   "metadata": {},
   "outputs": [
    {
     "name": "stdout",
     "output_type": "stream",
     "text": [
      "120\n"
     ]
    }
   ],
   "source": [
    "p_five = permutations(5)\n",
    "print(p_five)"
   ]
  },
  {
   "cell_type": "markdown",
   "id": "technical-string",
   "metadata": {},
   "source": [
    "Если исходить из-того, что места на скамейке можно пронумеровать, то возможные варианты размещения двух человек: 1-2, 2-3, 3-4, 4-5, 5-6, 6-7 x2.\n",
    "\n",
    "т.е. 6*2 (если расположение людей имеет значение) \n",
    "Будем исходить из того, что положение имеет значение:"
   ]
  },
  {
   "cell_type": "code",
   "execution_count": 85,
   "id": "steady-meditation",
   "metadata": {},
   "outputs": [
    {
     "name": "stdout",
     "output_type": "stream",
     "text": [
      "28.57 %\n"
     ]
    }
   ],
   "source": [
    "P = (6 * 2 * p_five) /(p)\n",
    "print(f\"{round(P * 100, 2)} %\")"
   ]
  },
  {
   "cell_type": "markdown",
   "id": "stable-large",
   "metadata": {},
   "source": [
    "**Задача 4**\n",
    "\n",
    "Из 60 вопросов, входящих в экзаменационные билеты, студент знает 50. Какова вероятность того, что среди трёх наугад выбранных вопросов студент знает: а) все? б) два"
   ]
  },
  {
   "cell_type": "markdown",
   "id": "given-calendar",
   "metadata": {},
   "source": [
    "в данной задаче порядок выпадения билетов не имеет значения.  \n",
    "вариант б был интерперетирован как \"только два\"."
   ]
  },
  {
   "cell_type": "markdown",
   "id": "widespread-paraguay",
   "metadata": {},
   "source": [
    "Вероятность P = m/n\n",
    "n - количество возможных вариантов выбора трех вопросов"
   ]
  },
  {
   "cell_type": "code",
   "execution_count": 75,
   "id": "rotary-suspension",
   "metadata": {},
   "outputs": [
    {
     "name": "stdout",
     "output_type": "stream",
     "text": [
      "34220.0\n"
     ]
    }
   ],
   "source": [
    "n = combination(3, 60)\n",
    "print(n)"
   ]
  },
  {
   "cell_type": "markdown",
   "id": "immune-hopkins",
   "metadata": {},
   "source": [
    "Количество вариантов, что студент вытянул три вопроса, которые все знает:\n"
   ]
  },
  {
   "cell_type": "code",
   "execution_count": 76,
   "id": "needed-season",
   "metadata": {},
   "outputs": [
    {
     "name": "stdout",
     "output_type": "stream",
     "text": [
      "1225.0\n"
     ]
    }
   ],
   "source": [
    "m = combination(3, 50)\n",
    "print(c)"
   ]
  },
  {
   "cell_type": "markdown",
   "id": "pharmaceutical-opportunity",
   "metadata": {},
   "source": [
    "Вероятность получения трех подготовленных вопросов:"
   ]
  },
  {
   "cell_type": "code",
   "execution_count": 77,
   "id": "alien-triangle",
   "metadata": {},
   "outputs": [
    {
     "name": "stdout",
     "output_type": "stream",
     "text": [
      "57.28 %\n"
     ]
    }
   ],
   "source": [
    "P = m *100/n\n",
    "print(f\"{round(P, 2)} %\")"
   ]
  },
  {
   "cell_type": "markdown",
   "id": "following-opening",
   "metadata": {},
   "source": [
    "Количество вариантов, что студент вытянул два подготовленных вопроса:\n"
   ]
  },
  {
   "cell_type": "code",
   "execution_count": 78,
   "id": "pacific-marathon",
   "metadata": {},
   "outputs": [
    {
     "name": "stdout",
     "output_type": "stream",
     "text": [
      "1225.0\n"
     ]
    }
   ],
   "source": [
    "m_c = combination(2, 50)\n",
    "print(m_c)"
   ]
  },
  {
   "cell_type": "markdown",
   "id": "abstract-mexican",
   "metadata": {},
   "source": [
    "Количество вариантов, что студент вытянул 1 из 10 неподготовленных вопросов"
   ]
  },
  {
   "cell_type": "code",
   "execution_count": 79,
   "id": "touched-simple",
   "metadata": {},
   "outputs": [
    {
     "name": "stdout",
     "output_type": "stream",
     "text": [
      "10.0\n"
     ]
    }
   ],
   "source": [
    "m_q = combination(1, 10)\n",
    "print(m_q)"
   ]
  },
  {
   "cell_type": "markdown",
   "id": "functioning-commons",
   "metadata": {},
   "source": [
    "События являются совместными, т.е. результаты следует перемножить"
   ]
  },
  {
   "cell_type": "code",
   "execution_count": 80,
   "id": "lightweight-terrace",
   "metadata": {},
   "outputs": [
    {
     "name": "stdout",
     "output_type": "stream",
     "text": [
      "12250.0\n"
     ]
    }
   ],
   "source": [
    "m = m_c * m_q\n",
    "print(m)"
   ]
  },
  {
   "cell_type": "code",
   "execution_count": 81,
   "id": "european-funeral",
   "metadata": {},
   "outputs": [
    {
     "name": "stdout",
     "output_type": "stream",
     "text": [
      "35.8 %\n"
     ]
    }
   ],
   "source": [
    "P = m*100/n\n",
    "print(f\"{round(P, 2)} %\")"
   ]
  },
  {
   "cell_type": "markdown",
   "id": "august-respect",
   "metadata": {},
   "source": [
    "Вероятность ниже, чем для трех вопросов."
   ]
  },
  {
   "cell_type": "markdown",
   "id": "statewide-cancellation",
   "metadata": {},
   "source": [
    "**Задача 5**\n",
    "\n",
    "Бросается игральная кость. Пусть событие A - появление чётного числа, событие B - появление числа больше трёх. Являются ли эти события независимыми?"
   ]
  },
  {
   "cell_type": "markdown",
   "id": "liable-shoot",
   "metadata": {},
   "source": [
    "Если верить определениям, независимыми событиями называются события, наступление одного из которых, не влияет на вероятность другого.  \n",
    "В данном случае, если произошло событие А (четное: 2, 4, 6) изменяет вероятность события В, т.к. в нормальном состоянии эта вероятность 1/2, а случае, если событие А произошло, то вероятность, что число больше 3 уже 2/3.  \n",
    "Аналогичные рассуждения и для события В, если оно произошло.\n",
    "\n",
    "Т.е. можно сделать вывод, что события не являются независимыми."
   ]
  },
  {
   "cell_type": "markdown",
   "id": "imperial-cornwall",
   "metadata": {},
   "source": [
    "**Задача 6 (Дополнительно)**\n",
    "\n",
    "Допустим, имеется некоторая очень редкая болезнь (поражает 0.1 % населения). Вы приходите к врачу, вам делают тест на эту болезнь, и тест оказывается положительным. Врач говорит вам, что этот тест верно выявляет 99 % больных этой болезнью и всего лишь в 1 % случаев даёт ложный положительный ответ.\n",
    "\n",
    "Вопрос: какова вероятность, что вы действительно больны ей?\n",
    "\n",
    "Подсказка: вновь используйте формулу Байеса с раскрытием знаменателя с помощью формулы полной вероятности."
   ]
  },
  {
   "cell_type": "markdown",
   "id": "whole-timing",
   "metadata": {},
   "source": [
    "Рассматриваются два события: А. что человек действительно болен, B, что тест дал коррректный положительный результат.\n"
   ]
  },
  {
   "cell_type": "markdown",
   "id": "activated-brass",
   "metadata": {},
   "source": [
    "P(A) = 0.1% = 0.001  \n",
    "P(B|A) = 99% = 0.99  \n",
    "Т.е. идет поиск P(A|B)"
   ]
  },
  {
   "cell_type": "markdown",
   "id": "certain-madagascar",
   "metadata": {},
   "source": [
    "По формуле Байеса:  \n",
    "P(A|B) = P(B|A) * P(A) / P(B)\n",
    "\n",
    "Где P(B) должно вычисляться по формуле полной вероятности:  \n",
    "P(B) = P(B|A) * P(A) + P(B|-A) * P(-A)"
   ]
  },
  {
   "cell_type": "markdown",
   "id": "liable-madness",
   "metadata": {},
   "source": [
    "P(B|A) = 0.99  \n",
    "P(A) = 0.001  \n",
    "P(-A) = 1 - P(A) = 0.999  \n",
    "P(B|-A) = 1 - P(B|A) = 0.01  "
   ]
  },
  {
   "cell_type": "code",
   "execution_count": 48,
   "id": "funky-sword",
   "metadata": {},
   "outputs": [
    {
     "name": "stdout",
     "output_type": "stream",
     "text": [
      "0.01098\n"
     ]
    }
   ],
   "source": [
    "H = (0.99 * 0.001) + (0.01 * 0.999)\n",
    "print(H)"
   ]
  },
  {
   "cell_type": "code",
   "execution_count": 54,
   "id": "biological-working",
   "metadata": {},
   "outputs": [
    {
     "name": "stdout",
     "output_type": "stream",
     "text": [
      "9.02 %\n"
     ]
    }
   ],
   "source": [
    "P = (0.99 * 0.001 / H) * 100\n",
    "print(f\"{round(P, 2)} %\")"
   ]
  },
  {
   "cell_type": "code",
   "execution_count": null,
   "id": "municipal-westminster",
   "metadata": {},
   "outputs": [],
   "source": [
    "a = combination(2, )"
   ]
  }
 ],
 "metadata": {
  "kernelspec": {
   "display_name": "Python 3",
   "language": "python",
   "name": "python3"
  },
  "language_info": {
   "codemirror_mode": {
    "name": "ipython",
    "version": 3
   },
   "file_extension": ".py",
   "mimetype": "text/x-python",
   "name": "python",
   "nbconvert_exporter": "python",
   "pygments_lexer": "ipython3",
   "version": "3.9.1"
  }
 },
 "nbformat": 4,
 "nbformat_minor": 5
}
