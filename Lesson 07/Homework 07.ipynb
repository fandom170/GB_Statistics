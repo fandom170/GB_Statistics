{
 "cells": [
  {
   "cell_type": "code",
   "execution_count": 1,
   "id": "renewable-bearing",
   "metadata": {},
   "outputs": [],
   "source": [
    "import numpy as np\n",
    "import pandas as pd\n",
    "from scipy import stats\n",
    "from matplotlib import pyplot as plt\n",
    "from sklearn.linear_model import LinearRegression\n",
    "import math"
   ]
  },
  {
   "cell_type": "markdown",
   "id": "alien-lambda",
   "metadata": {},
   "source": [
    "**Задача 1**\n",
    "\n",
    "Дана матрица объект-признак\n",
    "\n",
    "X = [[ 1.22401313, 2.30868478, 3.03636353, 2.69287214],\n",
    "[-0.18757272, 1.30337355, 5.12093014, 3.46363202],\n",
    "[-0.81094525, 1.82463398, 5.79686488, 1.86159445],\n",
    "[ 0.75129018, 2.67392052, 3.65529809, 1.66746094],\n",
    "[ 0.00972362, 1.97367255, 2.50594319, 1.69755173],\n",
    "[-0.62972637, 0.77750764, 2.84124027, 4.54410559],\n",
    "[ 2.29536229, 1.81206697, 1.95026215, 1.51874636],\n",
    "[ 0.0920418 , 2.26971361, 7.47708735, 2.61081203],\n",
    "[ 2.39252799, 3.17563985, 3.61420599, 5.10773362],\n",
    "[ 0.54983815, 2.87988651, 1.65752765, 1.59635987]]\n",
    "\n",
    "и значения целевой переменной\n",
    "\n",
    "y = [ 9.26193358, 9.700363 , 8.67214805, 8.74796974, 6.18689108,\n",
    "7.53312713, 7.57643777, 12.44965478, 14.29010746, 6.68361218]\n",
    "\n",
    "Подберите два признака (из четырёх) так, чтобы уровень линейной зависимости целевой переменной от значений этих признаков был максимальным. Другими словами, модель линейной регрессии на этих признаках должна давать наилучший результат.\n",
    "Является ли значимым получившееся уравнение регрессии?"
   ]
  },
  {
   "cell_type": "code",
   "execution_count": 2,
   "id": "joined-angola",
   "metadata": {},
   "outputs": [],
   "source": [
    "X = np.array([[ 1.22401313, 2.30868478, 3.03636353, 2.69287214], \n",
    "              [-0.18757272, 1.30337355, 5.12093014, 3.46363202], \n",
    "              [-0.81094525, 1.82463398, 5.79686488, 1.86159445], \n",
    "              [ 0.75129018, 2.67392052, 3.65529809, 1.66746094], \n",
    "              [ 0.00972362, 1.97367255, 2.50594319, 1.69755173], \n",
    "              [-0.62972637, 0.77750764, 2.84124027, 4.54410559], \n",
    "              [ 2.29536229, 1.81206697, 1.95026215, 1.51874636], \n",
    "              [ 0.0920418 , 2.26971361, 7.47708735, 2.61081203], \n",
    "              [ 2.39252799, 3.17563985, 3.61420599, 5.10773362], \n",
    "              [ 0.54983815, 2.87988651, 1.65752765, 1.59635987]])"
   ]
  },
  {
   "cell_type": "code",
   "execution_count": 3,
   "id": "fancy-investment",
   "metadata": {},
   "outputs": [],
   "source": [
    "y =np.array([ 9.26193358, 9.700363 , 8.67214805, 8.74796974, 6.18689108, \n",
    "             7.53312713, 7.57643777, 12.44965478, 14.29010746, 6.68361218])"
   ]
  },
  {
   "cell_type": "markdown",
   "id": "subsequent-armenia",
   "metadata": {},
   "source": [
    "Определение сочетания столбцов для анализа:"
   ]
  },
  {
   "cell_type": "code",
   "execution_count": 4,
   "id": "better-visitor",
   "metadata": {
    "scrolled": true
   },
   "outputs": [
    {
     "data": {
      "text/plain": [
       "[(0, 1),\n",
       " (0, 2),\n",
       " (0, 3),\n",
       " (1, 0),\n",
       " (1, 2),\n",
       " (1, 3),\n",
       " (2, 0),\n",
       " (2, 1),\n",
       " (2, 3),\n",
       " (3, 0),\n",
       " (3, 1),\n",
       " (3, 2)]"
      ]
     },
     "execution_count": 4,
     "metadata": {},
     "output_type": "execute_result"
    }
   ],
   "source": [
    "space = []\n",
    "for i in range (X.shape[1]):\n",
    "    for j in range (X.shape[1]):\n",
    "        if i==j:\n",
    "            continue        \n",
    "        space.append((i, j))\n",
    "       \n",
    "space"
   ]
  },
  {
   "cell_type": "code",
   "execution_count": 5,
   "id": "digital-combine",
   "metadata": {
    "scrolled": true
   },
   "outputs": [
    {
     "data": {
      "text/html": [
       "<div>\n",
       "<style scoped>\n",
       "    .dataframe tbody tr th:only-of-type {\n",
       "        vertical-align: middle;\n",
       "    }\n",
       "\n",
       "    .dataframe tbody tr th {\n",
       "        vertical-align: top;\n",
       "    }\n",
       "\n",
       "    .dataframe thead th {\n",
       "        text-align: right;\n",
       "    }\n",
       "</style>\n",
       "<table border=\"1\" class=\"dataframe\">\n",
       "  <thead>\n",
       "    <tr style=\"text-align: right;\">\n",
       "      <th></th>\n",
       "      <th>0</th>\n",
       "      <th>1</th>\n",
       "      <th>2</th>\n",
       "      <th>3</th>\n",
       "    </tr>\n",
       "  </thead>\n",
       "  <tbody>\n",
       "    <tr>\n",
       "      <th>0</th>\n",
       "      <td>1.224013</td>\n",
       "      <td>2.308685</td>\n",
       "      <td>3.036364</td>\n",
       "      <td>2.692872</td>\n",
       "    </tr>\n",
       "    <tr>\n",
       "      <th>1</th>\n",
       "      <td>-0.187573</td>\n",
       "      <td>1.303374</td>\n",
       "      <td>5.120930</td>\n",
       "      <td>3.463632</td>\n",
       "    </tr>\n",
       "    <tr>\n",
       "      <th>2</th>\n",
       "      <td>-0.810945</td>\n",
       "      <td>1.824634</td>\n",
       "      <td>5.796865</td>\n",
       "      <td>1.861594</td>\n",
       "    </tr>\n",
       "    <tr>\n",
       "      <th>3</th>\n",
       "      <td>0.751290</td>\n",
       "      <td>2.673921</td>\n",
       "      <td>3.655298</td>\n",
       "      <td>1.667461</td>\n",
       "    </tr>\n",
       "    <tr>\n",
       "      <th>4</th>\n",
       "      <td>0.009724</td>\n",
       "      <td>1.973673</td>\n",
       "      <td>2.505943</td>\n",
       "      <td>1.697552</td>\n",
       "    </tr>\n",
       "  </tbody>\n",
       "</table>\n",
       "</div>"
      ],
      "text/plain": [
       "          0         1         2         3\n",
       "0  1.224013  2.308685  3.036364  2.692872\n",
       "1 -0.187573  1.303374  5.120930  3.463632\n",
       "2 -0.810945  1.824634  5.796865  1.861594\n",
       "3  0.751290  2.673921  3.655298  1.667461\n",
       "4  0.009724  1.973673  2.505943  1.697552"
      ]
     },
     "execution_count": 5,
     "metadata": {},
     "output_type": "execute_result"
    }
   ],
   "source": [
    "df = pd.DataFrame(X)\n",
    "df.head()"
   ]
  },
  {
   "cell_type": "code",
   "execution_count": 6,
   "id": "rocky-covering",
   "metadata": {
    "scrolled": true
   },
   "outputs": [
    {
     "name": "stdout",
     "output_type": "stream",
     "text": [
      "6.70781579049774 0.4078684103057995 1.0336024709417702\n",
      "3.6245569493851137 1.6253120321108065 1.2113497931202983\n",
      "5.7068612323509935 0.6835994852190962 1.126507070741747\n",
      "6.70781579049774 1.0336024709417702 0.4078684103058002\n",
      "2.488961928568431 1.6061195600599558 0.86269914636502\n",
      "1.916852207680499 1.7437366723123868 1.319718815458464\n",
      "3.624556949385111 1.2113497931202992 1.6253120321108077\n",
      "2.4889619285684272 0.8626991463650208 1.606119560059956\n",
      "3.64001085991419 0.7075391440843418 1.0485174544175302\n",
      "5.7068612323509935 1.1265070707417468 0.6835994852190964\n",
      "1.9168522076804946 1.3197188154584651 1.7437366723123873\n",
      "3.6400108599141925 1.04851745441753 0.7075391440843413\n"
     ]
    }
   ],
   "source": [
    "list_of_coef = []\n",
    "for elem in space:\n",
    "    df_internal = df[[elem[0], elem[1]]]\n",
    "    model_task_1 = LinearRegression().fit(df_internal, y)\n",
    "    b0 = model_task_1.intercept_\n",
    "    b1, b2 = (model_task_1.coef_)\n",
    "    print(b0, b1, b2)\n",
    "    list_of_coef.append((b0, b1, b2))   \n",
    "    "
   ]
  },
  {
   "cell_type": "code",
   "execution_count": 7,
   "id": "moved-boulder",
   "metadata": {},
   "outputs": [],
   "source": [
    "list_of_coef = np.array(list_of_coef)"
   ]
  },
  {
   "cell_type": "markdown",
   "id": "classified-impact",
   "metadata": {},
   "source": [
    "Вычисление R^2 и коэффициента Фишера для каждого из сочетаний"
   ]
  },
  {
   "cell_type": "code",
   "execution_count": 8,
   "id": "provincial-replica",
   "metadata": {},
   "outputs": [],
   "source": [
    "def sum_of_squares(array):\n",
    "    return((array - array.mean())**2).sum()"
   ]
  },
  {
   "cell_type": "code",
   "execution_count": 9,
   "id": "eligible-bryan",
   "metadata": {},
   "outputs": [
    {
     "data": {
      "text/plain": [
       "10"
      ]
     },
     "execution_count": 9,
     "metadata": {},
     "output_type": "execute_result"
    }
   ],
   "source": [
    "n_1 = X.shape[0]\n",
    "n_1"
   ]
  },
  {
   "cell_type": "code",
   "execution_count": 10,
   "id": "chemical-crown",
   "metadata": {},
   "outputs": [],
   "source": [
    "m_1 = 2"
   ]
  },
  {
   "cell_type": "code",
   "execution_count": 11,
   "id": "given-disposal",
   "metadata": {},
   "outputs": [
    {
     "data": {
      "text/plain": [
       "(2, 7)"
      ]
     },
     "execution_count": 11,
     "metadata": {},
     "output_type": "execute_result"
    }
   ],
   "source": [
    "k1_1 = m_1\n",
    "k2_1 = n_1 - m_1 - 1\n",
    "k1_1, k2_1"
   ]
  },
  {
   "cell_type": "code",
   "execution_count": 12,
   "id": "sacred-banana",
   "metadata": {
    "scrolled": true
   },
   "outputs": [
    {
     "data": {
      "text/plain": [
       "4.73741412777588"
      ]
     },
     "execution_count": 12,
     "metadata": {},
     "output_type": "execute_result"
    }
   ],
   "source": [
    "alpha = 0.05\n",
    "t_1 = stats.f.ppf(1 - alpha, k1_1, k2_1)\n",
    "t_1"
   ]
  },
  {
   "cell_type": "markdown",
   "id": "needed-reynolds",
   "metadata": {},
   "source": [
    "Вычисление максимального уровня значимости"
   ]
  },
  {
   "cell_type": "code",
   "execution_count": 13,
   "id": "approved-swing",
   "metadata": {},
   "outputs": [],
   "source": [
    "def r2_score(data_array, x1, x2, list_of_coef, y):\n",
    "    int_r1_max = 0\n",
    "    x1_max, x2_max = None, None\n",
    "    coef_row = None\n",
    "\n",
    "    for koef_line in list_of_coef:\n",
    "        b0 = koef_line[0]    \n",
    "        b1 = koef_line[1]\n",
    "        b2 = koef_line[2]    \n",
    "        \n",
    "        z=b0 + b1 *data_array[x1] + b2 * data_array[x2]\n",
    "        R1 = 1 - (((y - z)**2).sum()/sum_of_squares(y))\n",
    "        if int_r1_max < R1:\n",
    "            int_r1_max = R1\n",
    "            x1_max, x2_max = x1, x2\n",
    "            coef_row = (b0, b1, b2)\n",
    "            \n",
    "    #print(R1)\n",
    "    #return R1\n",
    "    return int_r1_max, x1_max, x2_max, coef_row"
   ]
  },
  {
   "cell_type": "code",
   "execution_count": 14,
   "id": "statistical-physiology",
   "metadata": {},
   "outputs": [
    {
     "name": "stdout",
     "output_type": "stream",
     "text": [
      "0.7634246238793151\n",
      "(3.624556949385111, 1.2113497931202992, 1.6253120321108077)\n",
      "(2, 0)\n"
     ]
    }
   ],
   "source": [
    "max_r1 = 0\n",
    "max_coef = None\n",
    "max_rows = None\n",
    "for i in range (list_of_coef.shape[0]):\n",
    "    row_1, row_2 = space[i][0], space[i][1]\n",
    "    R1, row_1_max, row_2_max, coef_row = r2_score(df[[row_1, row_2]], row_1, row_2, list_of_coef, y)\n",
    "    \n",
    "    if R1 > max_r1:\n",
    "        max_r1 = R1\n",
    "        max_coef = coef_row\n",
    "        max_rows = (row_1_max, row_2_max)\n",
    "        \n",
    "print(max_r1)\n",
    "print(max_coef)\n",
    "print(max_rows)"
   ]
  },
  {
   "cell_type": "code",
   "execution_count": 17,
   "id": "illegal-arrow",
   "metadata": {},
   "outputs": [
    {
     "data": {
      "text/plain": [
       "11.294439122922642"
      ]
     },
     "execution_count": 17,
     "metadata": {},
     "output_type": "execute_result"
    }
   ],
   "source": [
    "params = None\n",
    "\n",
    "F = (max_r1 / k1_1) / ((1 - max_r1) / k2_1)\n",
    "F"
   ]
  },
  {
   "cell_type": "markdown",
   "id": "weekly-farmer",
   "metadata": {},
   "source": [
    "Значение F для максимального знасения R^2=0,76 составляет 25.82, что больше критической величины t1 = 4.73.\n",
    "Можно предположить, что уравнение значимо."
   ]
  },
  {
   "cell_type": "code",
   "execution_count": null,
   "id": "smaller-plain",
   "metadata": {},
   "outputs": [],
   "source": []
  },
  {
   "cell_type": "markdown",
   "id": "floating-package",
   "metadata": {},
   "source": [
    "**Задача 2**\n",
    "\n",
    "Даны значения величины заработной платы заемщиков банка (salary) и значения их поведенческого кредитного скоринга (scoring):\n",
    "\n",
    "salary = [35, 45, 190, 200, 40, 70, 54, 150, 120, 110]\n",
    "scoring = [401, 574, 874, 919, 459, 739, 653, 902, 746, 832]\n",
    "\n",
    "Возьмём в качестве признака значение salary, а в качестве целевой переменной - scoring.\n",
    "\n",
    "Найдите коэффициенты линейной регрессии с помощью формул для парной регрессии, а затем с помощью метода наименьших квадратов.  \n",
    "Постройте scatter plot по данным и отметьте на нём прямую линейной регрессии, полученную в п. 1.  \n",
    "Посчитайте коэффициент детерминации.  \n",
    "Оцените построенное уравнение регрессии с помощью F-критерия Фишера.  \n",
    "(доп) Посчитать среднюю ошибку аппроксимации  "
   ]
  },
  {
   "cell_type": "code",
   "execution_count": 18,
   "id": "accurate-shoot",
   "metadata": {},
   "outputs": [],
   "source": [
    "salary = np.array([35, 45, 190, 200, 40, 70, 54, 150, 120, 110])"
   ]
  },
  {
   "cell_type": "code",
   "execution_count": 19,
   "id": "arabic-haven",
   "metadata": {},
   "outputs": [],
   "source": [
    "scoring = np.array([401, 574, 874, 919, 459, 739, 653, 902, 746, 832])"
   ]
  },
  {
   "cell_type": "markdown",
   "id": "considerable-joyce",
   "metadata": {},
   "source": [
    "Формулы парной регресии\n"
   ]
  },
  {
   "cell_type": "code",
   "execution_count": 20,
   "id": "virtual-clause",
   "metadata": {},
   "outputs": [],
   "source": [
    "def lsq (x, y):\n",
    "    b1 = (np.mean(y*x) - (np.mean(y) * np.mean(x)))/(np.mean(x**2) - np.mean(x)**2)\n",
    "    b0 = np.mean(y) - b1 * np.mean(x)\n",
    "    return b1, b0\n"
   ]
  },
  {
   "cell_type": "code",
   "execution_count": 21,
   "id": "registered-zimbabwe",
   "metadata": {
    "scrolled": true
   },
   "outputs": [
    {
     "data": {
      "text/plain": [
       "(2.620538882402765, 444.1773573243596)"
      ]
     },
     "execution_count": 21,
     "metadata": {},
     "output_type": "execute_result"
    }
   ],
   "source": [
    "lsq(salary, scoring)"
   ]
  },
  {
   "cell_type": "markdown",
   "id": "thick-container",
   "metadata": {},
   "source": [
    "Модель линейной регресии:  \n",
    "y = 444.18 + 2.62*x"
   ]
  },
  {
   "cell_type": "markdown",
   "id": "desperate-shade",
   "metadata": {},
   "source": [
    "Метод наименьших квадрратов"
   ]
  },
  {
   "cell_type": "code",
   "execution_count": 22,
   "id": "printable-bunch",
   "metadata": {},
   "outputs": [],
   "source": [
    "salary_pd = pd.DataFrame(salary)\n",
    "scoring_pd = pd.DataFrame(scoring)"
   ]
  },
  {
   "cell_type": "code",
   "execution_count": 23,
   "id": "subsequent-class",
   "metadata": {},
   "outputs": [
    {
     "data": {
      "text/plain": [
       "(10, 1)"
      ]
     },
     "execution_count": 23,
     "metadata": {},
     "output_type": "execute_result"
    }
   ],
   "source": [
    "salary_pd.shape"
   ]
  },
  {
   "cell_type": "code",
   "execution_count": 24,
   "id": "descending-concord",
   "metadata": {
    "scrolled": true
   },
   "outputs": [
    {
     "data": {
      "text/plain": [
       "(10, 2)"
      ]
     },
     "execution_count": 24,
     "metadata": {},
     "output_type": "execute_result"
    }
   ],
   "source": [
    "ones = np.ones((salary_pd.shape[0], 1))\n",
    "salary_pdo = np.hstack((ones, salary_pd))\n",
    "salary_pdo.shape"
   ]
  },
  {
   "cell_type": "code",
   "execution_count": 25,
   "id": "secret-article",
   "metadata": {},
   "outputs": [
    {
     "data": {
      "text/plain": [
       "array([[  1.,  35.],\n",
       "       [  1.,  45.],\n",
       "       [  1., 190.],\n",
       "       [  1., 200.],\n",
       "       [  1.,  40.],\n",
       "       [  1.,  70.],\n",
       "       [  1.,  54.],\n",
       "       [  1., 150.],\n",
       "       [  1., 120.],\n",
       "       [  1., 110.]])"
      ]
     },
     "execution_count": 25,
     "metadata": {},
     "output_type": "execute_result"
    }
   ],
   "source": [
    "salary_pdo\n"
   ]
  },
  {
   "cell_type": "code",
   "execution_count": 26,
   "id": "balanced-communist",
   "metadata": {
    "scrolled": false
   },
   "outputs": [
    {
     "data": {
      "text/plain": [
       "array([[1.00000e+01, 1.01400e+03],\n",
       "       [1.01400e+03, 1.37766e+05]])"
      ]
     },
     "execution_count": 26,
     "metadata": {},
     "output_type": "execute_result"
    }
   ],
   "source": [
    "XTX = salary_pdo.T.dot(salary_pdo)\n",
    "XTX"
   ]
  },
  {
   "cell_type": "markdown",
   "id": "express-tradition",
   "metadata": {},
   "source": [
    "определитель"
   ]
  },
  {
   "cell_type": "code",
   "execution_count": 27,
   "id": "arabic-harvest",
   "metadata": {},
   "outputs": [
    {
     "data": {
      "text/plain": [
       "349464.00000000023"
      ]
     },
     "execution_count": 27,
     "metadata": {},
     "output_type": "execute_result"
    }
   ],
   "source": [
    "np.linalg.det(XTX)"
   ]
  },
  {
   "cell_type": "markdown",
   "id": "mineral-surgery",
   "metadata": {},
   "source": [
    "Определитель не равен нулю, поэтому, продолжаем"
   ]
  },
  {
   "cell_type": "code",
   "execution_count": 28,
   "id": "convertible-argentina",
   "metadata": {},
   "outputs": [
    {
     "data": {
      "text/plain": [
       "array([[ 3.94220864e-01, -2.90158643e-03],\n",
       "       [-2.90158643e-03,  2.86152508e-05]])"
      ]
     },
     "execution_count": 28,
     "metadata": {},
     "output_type": "execute_result"
    }
   ],
   "source": [
    "XTX_inv = np.linalg.inv(XTX)\n",
    "XTX_inv"
   ]
  },
  {
   "cell_type": "code",
   "execution_count": 29,
   "id": "determined-smooth",
   "metadata": {},
   "outputs": [
    {
     "data": {
      "text/plain": [
       "array([444.17735732,   2.62053888])"
      ]
     },
     "execution_count": 29,
     "metadata": {},
     "output_type": "execute_result"
    }
   ],
   "source": [
    "b = XTX_inv.dot(salary_pdo.T).dot(scoring)\n",
    "b"
   ]
  },
  {
   "cell_type": "markdown",
   "id": "excited-alignment",
   "metadata": {},
   "source": [
    "полученные величины равны величинам, полученным пл формулам парной регрессии"
   ]
  },
  {
   "cell_type": "markdown",
   "id": "complicated-medline",
   "metadata": {},
   "source": [
    "**Скаттерплот**"
   ]
  },
  {
   "cell_type": "code",
   "execution_count": 56,
   "id": "amino-nothing",
   "metadata": {},
   "outputs": [],
   "source": [
    "b1_2 = b[1]\n",
    "b0_2 = b[0]"
   ]
  },
  {
   "cell_type": "code",
   "execution_count": 57,
   "id": "coupled-tolerance",
   "metadata": {
    "scrolled": false
   },
   "outputs": [
    {
     "data": {
      "text/plain": [
       "Text(0, 0.5, 'scoring')"
      ]
     },
     "execution_count": 57,
     "metadata": {},
     "output_type": "execute_result"
    },
    {
     "data": {
      "image/png": "[encoded data removed]",
      "text/plain": [
       "<Figure size 432x288 with 1 Axes>"
      ]
     },
     "metadata": {
      "needs_background": "light"
     },
     "output_type": "display_data"
    }
   ],
   "source": [
    "ox = salary\n",
    "oy = b0_2 + b1_2*ox\n",
    "\n",
    "plt.scatter(salary, scoring)\n",
    "plt.plot(ox, oy, color = 'red', alpha = 0.5)\n",
    "plt.xlabel('salary')\n",
    "plt.ylabel('scoring')"
   ]
  },
  {
   "cell_type": "markdown",
   "id": "headed-fountain",
   "metadata": {},
   "source": [
    "Расчет при помощи стандартного модуля"
   ]
  },
  {
   "cell_type": "code",
   "execution_count": 45,
   "id": "alien-fraud",
   "metadata": {
    "scrolled": true
   },
   "outputs": [
    {
     "data": {
      "text/plain": [
       "444.1773573243595"
      ]
     },
     "execution_count": 45,
     "metadata": {},
     "output_type": "execute_result"
    }
   ],
   "source": [
    "model_1 = LinearRegression().fit(salary_pdo, scoring)\n",
    "model_1.intercept_"
   ]
  },
  {
   "cell_type": "code",
   "execution_count": 46,
   "id": "rental-length",
   "metadata": {
    "scrolled": true
   },
   "outputs": [
    {
     "data": {
      "text/plain": [
       "array([0.        , 2.62053888])"
      ]
     },
     "execution_count": 46,
     "metadata": {},
     "output_type": "execute_result"
    }
   ],
   "source": [
    "model_1.coef_"
   ]
  },
  {
   "cell_type": "markdown",
   "id": "unusual-library",
   "metadata": {},
   "source": [
    "**коэффициент детерминации**"
   ]
  },
  {
   "cell_type": "markdown",
   "id": "neural-generation",
   "metadata": {},
   "source": [
    "Предсказанные значения:"
   ]
  },
  {
   "cell_type": "code",
   "execution_count": 58,
   "id": "arbitrary-friendly",
   "metadata": {},
   "outputs": [],
   "source": [
    "z1=b0_2 + b1_2 *salary"
   ]
  },
  {
   "cell_type": "code",
   "execution_count": 59,
   "id": "pretty-sandwich",
   "metadata": {},
   "outputs": [],
   "source": [
    "def sum_of_squares(array):\n",
    "    return((array - array.mean())**2).sum()"
   ]
  },
  {
   "cell_type": "markdown",
   "id": "activated-humidity",
   "metadata": {},
   "source": [
    "Расчет R2:"
   ]
  },
  {
   "cell_type": "code",
   "execution_count": 60,
   "id": "varied-contamination",
   "metadata": {},
   "outputs": [
    {
     "data": {
      "text/plain": [
       "0.7876386635293686"
      ]
     },
     "execution_count": 60,
     "metadata": {},
     "output_type": "execute_result"
    }
   ],
   "source": [
    "R2 = 1 - ((scoring - z1)**2).sum()/sum_of_squares(scoring)\n",
    "R2"
   ]
  },
  {
   "cell_type": "markdown",
   "id": "adjusted-screening",
   "metadata": {},
   "source": [
    "**F-критерий Фишера**"
   ]
  },
  {
   "cell_type": "code",
   "execution_count": 61,
   "id": "occupational-tongue",
   "metadata": {},
   "outputs": [],
   "source": [
    "n = salary.shape[0]\n",
    "m = 1"
   ]
  },
  {
   "cell_type": "code",
   "execution_count": 62,
   "id": "developed-hollow",
   "metadata": {},
   "outputs": [
    {
     "data": {
      "text/plain": [
       "(1, 8)"
      ]
     },
     "execution_count": 62,
     "metadata": {},
     "output_type": "execute_result"
    }
   ],
   "source": [
    "k1 = m\n",
    "k2 = n - m - 1\n",
    "k1, k2"
   ]
  },
  {
   "cell_type": "code",
   "execution_count": 63,
   "id": "alert-howard",
   "metadata": {},
   "outputs": [
    {
     "data": {
      "text/plain": [
       "5.317655071578714"
      ]
     },
     "execution_count": 63,
     "metadata": {},
     "output_type": "execute_result"
    }
   ],
   "source": [
    "alpha = 0.05\n",
    "t = stats.f.ppf(1 - alpha, k1, k2)\n",
    "t"
   ]
  },
  {
   "cell_type": "code",
   "execution_count": 64,
   "id": "thirty-wrestling",
   "metadata": {},
   "outputs": [
    {
     "data": {
      "text/plain": [
       "<matplotlib.collections.PolyCollection at 0x20a2bb32880>"
      ]
     },
     "execution_count": 64,
     "metadata": {},
     "output_type": "execute_result"
    },
    {
     "data": {
      "image/png": "[encoded data removed]",
      "text/plain": [
       "<Figure size 432x288 with 1 Axes>"
      ]
     },
     "metadata": {
      "needs_background": "light"
     },
     "output_type": "display_data"
    }
   ],
   "source": [
    "ox = np.linspace(0, 6, 500)\n",
    "oy = stats.f.pdf(ox, k1, k2)\n",
    "\n",
    "ox_right = np.linspace(t, 6, 100)\n",
    "oy_right = stats.f.pdf(ox_right, k1, k2)\n",
    "\n",
    "plt.plot(ox, oy)\n",
    "plt.fill_between(ox_right, oy_right, alpha=0.5)"
   ]
  },
  {
   "cell_type": "code",
   "execution_count": 65,
   "id": "comic-rubber",
   "metadata": {
    "scrolled": true
   },
   "outputs": [
    {
     "data": {
      "text/plain": [
       "29.67164085966451"
      ]
     },
     "execution_count": 65,
     "metadata": {},
     "output_type": "execute_result"
    }
   ],
   "source": [
    "F = (R2 / k1) / ((1 - R2) / k2)\n",
    "F"
   ]
  },
  {
   "cell_type": "markdown",
   "id": "tropical-jumping",
   "metadata": {},
   "source": [
    "Значение F лежит правее левой границы критической области. Можно считать уравнение значимым."
   ]
  },
  {
   "cell_type": "markdown",
   "id": "dated-restoration",
   "metadata": {},
   "source": [
    "**Средняя ошибка апроксимации**"
   ]
  },
  {
   "cell_type": "code",
   "execution_count": 66,
   "id": "informative-helping",
   "metadata": {},
   "outputs": [],
   "source": [
    "def mean_approximation_error(y_real, y_pred):\n",
    "    return np.abs((y_real - y_pred) / y_real).mean()"
   ]
  },
  {
   "cell_type": "code",
   "execution_count": 67,
   "id": "italic-devices",
   "metadata": {
    "scrolled": true
   },
   "outputs": [
    {
     "data": {
      "text/plain": [
       "0.11469251843561709"
      ]
     },
     "execution_count": 67,
     "metadata": {},
     "output_type": "execute_result"
    }
   ],
   "source": [
    "mean_approximation_error(scoring, z1)"
   ]
  },
  {
   "cell_type": "markdown",
   "id": "corresponding-charger",
   "metadata": {},
   "source": [
    "Проверка величин"
   ]
  },
  {
   "cell_type": "code",
   "execution_count": 69,
   "id": "secure-voice",
   "metadata": {},
   "outputs": [],
   "source": [
    "import statsmodels.api as sm\n"
   ]
  },
  {
   "cell_type": "code",
   "execution_count": 76,
   "id": "lesbian-pharmacology",
   "metadata": {
    "scrolled": true
   },
   "outputs": [],
   "source": [
    "ones = np.ones((salary.shape[0], 1))"
   ]
  },
  {
   "cell_type": "code",
   "execution_count": 78,
   "id": "saved-arrow",
   "metadata": {},
   "outputs": [],
   "source": [
    "salary_df = pd.DataFrame(salary.T)\n",
    "scoring_df = pd.DataFrame(scoring.T)"
   ]
  },
  {
   "cell_type": "code",
   "execution_count": 80,
   "id": "associate-amendment",
   "metadata": {},
   "outputs": [],
   "source": [
    "salary_df = np.hstack((ones, salary_df))"
   ]
  },
  {
   "cell_type": "code",
   "execution_count": 83,
   "id": "reserved-little",
   "metadata": {},
   "outputs": [
    {
     "name": "stdout",
     "output_type": "stream",
     "text": [
      "                            OLS Regression Results                            \n",
      "==============================================================================\n",
      "Dep. Variable:                      0   R-squared:                       0.788\n",
      "Model:                            OLS   Adj. R-squared:                  0.761\n",
      "Method:                 Least Squares   F-statistic:                     29.67\n",
      "Date:                Sun, 12 Sep 2021   Prob (F-statistic):           0.000611\n",
      "Time:                        18:27:57   Log-Likelihood:                -58.064\n",
      "No. Observations:                  10   AIC:                             120.1\n",
      "Df Residuals:                       8   BIC:                             120.7\n",
      "Df Model:                           1                                         \n",
      "Covariance Type:            nonrobust                                         \n",
      "==============================================================================\n",
      "                 coef    std err          t      P>|t|      [0.025      0.975]\n",
      "------------------------------------------------------------------------------\n",
      "const        444.1774     56.466      7.866      0.000     313.965     574.389\n",
      "x1             2.6205      0.481      5.447      0.001       1.511       3.730\n",
      "==============================================================================\n",
      "Omnibus:                        1.365   Durbin-Watson:                   1.407\n",
      "Prob(Omnibus):                  0.505   Jarque-Bera (JB):                0.725\n",
      "Skew:                          -0.130   Prob(JB):                        0.696\n",
      "Kurtosis:                       1.707   Cond. No.                         233.\n",
      "==============================================================================\n",
      "\n",
      "Notes:\n",
      "[1] Standard Errors assume that the covariance matrix of the errors is correctly specified.\n"
     ]
    },
    {
     "name": "stderr",
     "output_type": "stream",
     "text": [
      "c:\\users\\пк\\appdata\\local\\programs\\python\\python39\\lib\\site-packages\\scipy\\stats\\stats.py:1603: UserWarning: kurtosistest only valid for n>=20 ... continuing anyway, n=10\n",
      "  warnings.warn(\"kurtosistest only valid for n>=20 ... continuing \"\n"
     ]
    }
   ],
   "source": [
    "model = sm.OLS(scoring_df, salary_df)\n",
    "results = model.fit()\n",
    "print(results.summary())"
   ]
  },
  {
   "cell_type": "code",
   "execution_count": null,
   "id": "dedicated-southwest",
   "metadata": {},
   "outputs": [],
   "source": []
  }
 ],
 "metadata": {
  "kernelspec": {
   "display_name": "Python 3",
   "language": "python",
   "name": "python3"
  },
  "language_info": {
   "codemirror_mode": {
    "name": "ipython",
    "version": 3
   },
   "file_extension": ".py",
   "mimetype": "text/x-python",
   "name": "python",
   "nbconvert_exporter": "python",
   "pygments_lexer": "ipython3",
   "version": "3.9.1"
  }
 },
 "nbformat": 4,
 "nbformat_minor": 5
}
