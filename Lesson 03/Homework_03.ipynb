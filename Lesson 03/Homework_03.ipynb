{
 "cells": [
  {
   "cell_type": "code",
   "execution_count": 2,
   "id": "silent-blood",
   "metadata": {},
   "outputs": [],
   "source": [
    "import pandas as pd\n",
    "import numpy as np"
   ]
  },
  {
   "cell_type": "code",
   "execution_count": 17,
   "id": "charitable-anniversary",
   "metadata": {},
   "outputs": [],
   "source": [
    "import math"
   ]
  },
  {
   "cell_type": "markdown",
   "id": "technological-forge",
   "metadata": {},
   "source": [
    "**Задача 1**\n",
    "\n",
    "Даны значения зарплат из выборки выпускников:\n",
    "\n",
    "100, 80, 75, 77, 89, 33, 45, 25, 65, 17, 30, 24, 57, 55, 70, 75, 65, 84, 90, 150.\n",
    "\n",
    "Без использования статистических функций вроде mean, std, var, посчитать среднее арифметическое, среднее квадратичное отклонение, смещенную и несмещенную оценки дисперсий для данной выборки.\n",
    "\n",
    "Можно затем посчитать те же значения с использованием статистических функций, чтобы проверить себя.\n",
    "\n"
   ]
  },
  {
   "cell_type": "code",
   "execution_count": 10,
   "id": "local-invention",
   "metadata": {},
   "outputs": [],
   "source": [
    "row = np.array([100, 80, 75, 77, 89, 33, 45, 25, 65, 17, 30, 24, 57, 55, 70, 75, 65, 84, 90, 150], dtype = np.int16)"
   ]
  },
  {
   "cell_type": "markdown",
   "id": "determined-minimum",
   "metadata": {},
   "source": [
    "**среднее арифметическое**"
   ]
  },
  {
   "cell_type": "code",
   "execution_count": 18,
   "id": "limiting-durham",
   "metadata": {},
   "outputs": [],
   "source": [
    "count = 0\n",
    "total = 0\n",
    "for elem in row:\n",
    "    total +=elem\n",
    "    count += 1"
   ]
  },
  {
   "cell_type": "code",
   "execution_count": 20,
   "id": "acknowledged-institution",
   "metadata": {},
   "outputs": [
    {
     "data": {
      "text/plain": [
       "65.3"
      ]
     },
     "execution_count": 20,
     "metadata": {},
     "output_type": "execute_result"
    }
   ],
   "source": [
    "row_mean = row.sum()/row.size\n",
    "row_mean"
   ]
  },
  {
   "cell_type": "code",
   "execution_count": 21,
   "id": "excellent-island",
   "metadata": {},
   "outputs": [
    {
     "data": {
      "text/plain": [
       "65.3"
      ]
     },
     "execution_count": 21,
     "metadata": {},
     "output_type": "execute_result"
    }
   ],
   "source": [
    "row_mean = total/count\n",
    "row_mean"
   ]
  },
  {
   "cell_type": "code",
   "execution_count": 22,
   "id": "warming-sugar",
   "metadata": {},
   "outputs": [
    {
     "data": {
      "text/plain": [
       "65.3"
      ]
     },
     "execution_count": 22,
     "metadata": {},
     "output_type": "execute_result"
    }
   ],
   "source": [
    "row_mean.mean()"
   ]
  },
  {
   "cell_type": "markdown",
   "id": "cellular-innocent",
   "metadata": {},
   "source": [
    "**среднее квадратическое отклонение**"
   ]
  },
  {
   "cell_type": "code",
   "execution_count": 23,
   "id": "dirty-formula",
   "metadata": {},
   "outputs": [
    {
     "data": {
      "text/plain": [
       "array([ 34.7,  14.7,   9.7,  11.7,  23.7, -32.3, -20.3, -40.3,  -0.3,\n",
       "       -48.3, -35.3, -41.3,  -8.3, -10.3,   4.7,   9.7,  -0.3,  18.7,\n",
       "        24.7,  84.7])"
      ]
     },
     "execution_count": 23,
     "metadata": {},
     "output_type": "execute_result"
    }
   ],
   "source": [
    "row_new = row - row_mean\n",
    "row_new"
   ]
  },
  {
   "cell_type": "code",
   "execution_count": 28,
   "id": "liable-vaccine",
   "metadata": {},
   "outputs": [
    {
     "data": {
      "text/plain": [
       "30.823854398825596"
      ]
     },
     "execution_count": 28,
     "metadata": {},
     "output_type": "execute_result"
    }
   ],
   "source": [
    "std_deviation = np.sqrt(sum(np.square(row_new))/row_new.size)\n",
    "std_deviation"
   ]
  },
  {
   "cell_type": "code",
   "execution_count": 30,
   "id": "biological-calculator",
   "metadata": {},
   "outputs": [
    {
     "data": {
      "text/plain": [
       "30.823854398825596"
      ]
     },
     "execution_count": 30,
     "metadata": {},
     "output_type": "execute_result"
    }
   ],
   "source": [
    "std_deviation = row.std()\n",
    "std_deviation"
   ]
  },
  {
   "cell_type": "markdown",
   "id": "angry-karen",
   "metadata": {},
   "source": [
    "**смещенная оценка дисперсии**"
   ]
  },
  {
   "cell_type": "code",
   "execution_count": 37,
   "id": "iraqi-marketplace",
   "metadata": {},
   "outputs": [
    {
     "data": {
      "text/plain": [
       "950.1100000000001"
      ]
     },
     "execution_count": 37,
     "metadata": {},
     "output_type": "execute_result"
    }
   ],
   "source": [
    "biased_sample_variance = (1/row_new.size)*(sum(np.square(row_new)))\n",
    "biased_sample_variance"
   ]
  },
  {
   "cell_type": "code",
   "execution_count": 39,
   "id": "widespread-public",
   "metadata": {},
   "outputs": [
    {
     "data": {
      "text/plain": [
       "950.11"
      ]
     },
     "execution_count": 39,
     "metadata": {},
     "output_type": "execute_result"
    }
   ],
   "source": [
    "row.var(ddof=0)"
   ]
  },
  {
   "cell_type": "markdown",
   "id": "optical-association",
   "metadata": {},
   "source": [
    "**несмещенная оценка дисперсии**"
   ]
  },
  {
   "cell_type": "code",
   "execution_count": 38,
   "id": "vocational-plane",
   "metadata": {},
   "outputs": [
    {
     "data": {
      "text/plain": [
       "1000.1157894736842"
      ]
     },
     "execution_count": 38,
     "metadata": {},
     "output_type": "execute_result"
    }
   ],
   "source": [
    "sample_variance = (1/(row_new.size - 1))*(sum(np.square(row_new)))\n",
    "sample_variance"
   ]
  },
  {
   "cell_type": "code",
   "execution_count": 40,
   "id": "dental-trading",
   "metadata": {},
   "outputs": [
    {
     "data": {
      "text/plain": [
       "1000.1157894736842"
      ]
     },
     "execution_count": 40,
     "metadata": {},
     "output_type": "execute_result"
    }
   ],
   "source": [
    "row.var(ddof=1)"
   ]
  },
  {
   "cell_type": "markdown",
   "id": "orange-liability",
   "metadata": {},
   "source": [
    "**Задача 2**\n",
    "\n",
    "Для выборки из задачи 1 найти первый и третий квартили, интерквартильное расстояние. Найти выборсы в выборке, используя для этого \"усы\" из boxplot. В этой задаче можно использовать статистические функции.\n",
    "\n"
   ]
  },
  {
   "cell_type": "code",
   "execution_count": 44,
   "id": "approved-anaheim",
   "metadata": {},
   "outputs": [
    {
     "data": {
      "text/plain": [
       "42.0"
      ]
     },
     "execution_count": 44,
     "metadata": {},
     "output_type": "execute_result"
    }
   ],
   "source": [
    "first_q = np.quantile(row, 0.25)\n",
    "first_q"
   ]
  },
  {
   "cell_type": "code",
   "execution_count": 69,
   "id": "comparable-daniel",
   "metadata": {
    "scrolled": true
   },
   "outputs": [
    {
     "data": {
      "text/plain": [
       "81.0"
      ]
     },
     "execution_count": 69,
     "metadata": {},
     "output_type": "execute_result"
    }
   ],
   "source": [
    "third_q = np.quantile(row, 0.75)\n",
    "third_q"
   ]
  },
  {
   "cell_type": "markdown",
   "id": "arabic-italian",
   "metadata": {},
   "source": [
    "интерквантильное расстояние"
   ]
  },
  {
   "cell_type": "code",
   "execution_count": 53,
   "id": "first-satin",
   "metadata": {
    "scrolled": false
   },
   "outputs": [
    {
     "data": {
      "text/plain": [
       "39.0"
      ]
     },
     "execution_count": 53,
     "metadata": {},
     "output_type": "execute_result"
    }
   ],
   "source": [
    "third_q - first_q"
   ]
  },
  {
   "cell_type": "code",
   "execution_count": 71,
   "id": "cutting-leeds",
   "metadata": {},
   "outputs": [
    {
     "data": {
      "text/plain": [
       "67.5"
      ]
     },
     "execution_count": 71,
     "metadata": {},
     "output_type": "execute_result"
    }
   ],
   "source": [
    "second_q = np.quantile(row, 0.5)\n",
    "second_q"
   ]
  },
  {
   "cell_type": "code",
   "execution_count": null,
   "id": "distant-gathering",
   "metadata": {},
   "outputs": [],
   "source": []
  },
  {
   "cell_type": "markdown",
   "id": "engaged-harris",
   "metadata": {},
   "source": [
    "То же самое, только с графиками и pandas"
   ]
  },
  {
   "cell_type": "code",
   "execution_count": 49,
   "id": "funded-review",
   "metadata": {},
   "outputs": [
    {
     "data": {
      "text/html": [
       "<div>\n",
       "<style scoped>\n",
       "    .dataframe tbody tr th:only-of-type {\n",
       "        vertical-align: middle;\n",
       "    }\n",
       "\n",
       "    .dataframe tbody tr th {\n",
       "        vertical-align: top;\n",
       "    }\n",
       "\n",
       "    .dataframe thead th {\n",
       "        text-align: right;\n",
       "    }\n",
       "</style>\n",
       "<table border=\"1\" class=\"dataframe\">\n",
       "  <thead>\n",
       "    <tr style=\"text-align: right;\">\n",
       "      <th></th>\n",
       "      <th>Column_1</th>\n",
       "    </tr>\n",
       "  </thead>\n",
       "  <tbody>\n",
       "    <tr>\n",
       "      <th>0</th>\n",
       "      <td>100</td>\n",
       "    </tr>\n",
       "    <tr>\n",
       "      <th>1</th>\n",
       "      <td>80</td>\n",
       "    </tr>\n",
       "    <tr>\n",
       "      <th>2</th>\n",
       "      <td>75</td>\n",
       "    </tr>\n",
       "  </tbody>\n",
       "</table>\n",
       "</div>"
      ],
      "text/plain": [
       "   Column_1\n",
       "0       100\n",
       "1        80\n",
       "2        75"
      ]
     },
     "execution_count": 49,
     "metadata": {},
     "output_type": "execute_result"
    }
   ],
   "source": [
    "df = pd.DataFrame(row, columns=['Column_1'])\n",
    "df.head(3)"
   ]
  },
  {
   "cell_type": "code",
   "execution_count": 54,
   "id": "right-bankruptcy",
   "metadata": {},
   "outputs": [
    {
     "data": {
      "text/plain": [
       "<AxesSubplot:>"
      ]
     },
     "execution_count": 54,
     "metadata": {},
     "output_type": "execute_result"
    },
    {
     "data": {
      "image/png": "[encoded data removed]",
      "text/plain": [
       "<Figure size 432x288 with 1 Axes>"
      ]
     },
     "metadata": {
      "needs_background": "light"
     },
     "output_type": "display_data"
    }
   ],
   "source": [
    "df.boxplot()"
   ]
  },
  {
   "cell_type": "code",
   "execution_count": 62,
   "id": "characteristic-garlic",
   "metadata": {},
   "outputs": [
    {
     "data": {
      "text/plain": [
       "39.0"
      ]
     },
     "execution_count": 62,
     "metadata": {},
     "output_type": "execute_result"
    }
   ],
   "source": [
    "q1 = df['Column_1'].quantile(0.25)\n",
    "q3 = df['Column_1'].quantile(0.75)\n",
    "iqr = q3 - q1\n",
    "iqr"
   ]
  },
  {
   "cell_type": "code",
   "execution_count": 63,
   "id": "adjusted-external",
   "metadata": {
    "scrolled": true
   },
   "outputs": [
    {
     "data": {
      "text/plain": [
       "42.0"
      ]
     },
     "execution_count": 63,
     "metadata": {},
     "output_type": "execute_result"
    }
   ],
   "source": [
    "q1"
   ]
  },
  {
   "cell_type": "code",
   "execution_count": 64,
   "id": "protecting-advantage",
   "metadata": {},
   "outputs": [
    {
     "data": {
      "text/plain": [
       "81.0"
      ]
     },
     "execution_count": 64,
     "metadata": {},
     "output_type": "execute_result"
    }
   ],
   "source": [
    "q3"
   ]
  },
  {
   "cell_type": "code",
   "execution_count": 59,
   "id": "thick-speed",
   "metadata": {},
   "outputs": [
    {
     "data": {
      "text/plain": [
       "(-16.5, 139.5)"
      ]
     },
     "execution_count": 59,
     "metadata": {},
     "output_type": "execute_result"
    }
   ],
   "source": [
    "boxplot_range = (q1 - 1.5 * iqr, q3 + 1.5 * iqr)\n",
    "boxplot_range"
   ]
  },
  {
   "cell_type": "code",
   "execution_count": 66,
   "id": "isolated-sarah",
   "metadata": {},
   "outputs": [
    {
     "data": {
      "text/plain": [
       "1"
      ]
     },
     "execution_count": 66,
     "metadata": {},
     "output_type": "execute_result"
    }
   ],
   "source": [
    "outliers = df.loc[(df['Column_1'] < boxplot_range[0]) | (df['Column_1'] > boxplot_range[1]) ]\n",
    "outliers.shape[0]"
   ]
  },
  {
   "cell_type": "code",
   "execution_count": 67,
   "id": "bridal-resident",
   "metadata": {},
   "outputs": [
    {
     "data": {
      "text/plain": [
       "0.05"
      ]
     },
     "execution_count": 67,
     "metadata": {},
     "output_type": "execute_result"
    }
   ],
   "source": [
    "outliers.shape[0] / df.shape[0]"
   ]
  },
  {
   "cell_type": "markdown",
   "id": "religious-bidding",
   "metadata": {},
   "source": [
    "Если удалить единственный выброс, то результат чуть-чуть изменится"
   ]
  },
  {
   "cell_type": "code",
   "execution_count": 78,
   "id": "useful-cement",
   "metadata": {},
   "outputs": [],
   "source": [
    "df_new = df.loc[(df['Column_1'] > boxplot_range[0]) & (df['Column_1'] < boxplot_range[1]) ]"
   ]
  },
  {
   "cell_type": "code",
   "execution_count": 79,
   "id": "legitimate-dividend",
   "metadata": {},
   "outputs": [
    {
     "data": {
      "text/plain": [
       "19"
      ]
     },
     "execution_count": 79,
     "metadata": {},
     "output_type": "execute_result"
    }
   ],
   "source": [
    "df_new.size"
   ]
  },
  {
   "cell_type": "code",
   "execution_count": 80,
   "id": "abstract-torture",
   "metadata": {},
   "outputs": [
    {
     "data": {
      "text/plain": [
       "<AxesSubplot:>"
      ]
     },
     "execution_count": 80,
     "metadata": {},
     "output_type": "execute_result"
    },
    {
     "data": {
      "image/png": "[encoded data removed]",
      "text/plain": [
       "<Figure size 432x288 with 1 Axes>"
      ]
     },
     "metadata": {
      "needs_background": "light"
     },
     "output_type": "display_data"
    }
   ],
   "source": [
    "df_new.boxplot()"
   ]
  },
  {
   "cell_type": "code",
   "execution_count": 83,
   "id": "cheap-antenna",
   "metadata": {},
   "outputs": [
    {
     "data": {
      "text/plain": [
       "(-20.25, 137.75)"
      ]
     },
     "execution_count": 83,
     "metadata": {},
     "output_type": "execute_result"
    }
   ],
   "source": [
    "q1 = df_new['Column_1'].quantile(0.25)\n",
    "q3 = df_new['Column_1'].quantile(0.75)\n",
    "iqr = q3 - q1\n",
    "boxplot_range = (q1 - 1.5 * iqr, q3 + 1.5 * iqr)\n",
    "boxplot_range"
   ]
  },
  {
   "cell_type": "markdown",
   "id": "heard-track",
   "metadata": {},
   "source": [
    "Задача 3\n",
    "\n",
    "В университет на факультеты A и B поступило равное количество студентов, а на факультет C студентов поступило столько же, сколько на A и B вместе. Вероятность того, что студент факультета A сдаст первую сессию, равна 0.8. Для студента факультета B эта вероятность равна 0.7, а для студента факультета C - 0.9. Студент сдал первую сессию. Какова вероятность, что он учится: a) на факультете A? б) на факультете B? в) на факультете C?\n",
    "\n",
    "Замечание: да, эта задача не на тему описательных статистик, но тема важная, и её стоит иногда освежать в памяти."
   ]
  },
  {
   "cell_type": "markdown",
   "id": "generic-sequence",
   "metadata": {},
   "source": [
    "$$p(A|Ba) = 0.8$$  \n",
    "$$p(A|Bb) = 0.7$$  \n",
    "$$p(A|Bc) = 0.9$$"
   ]
  },
  {
   "cell_type": "markdown",
   "id": "clinical-atlas",
   "metadata": {},
   "source": [
    "Вероятность, что студент из факультета А = 1/4, из факультета В = 1/4 и из факультета С = 1/2 пропорционально количеству стуентов на факультетах."
   ]
  },
  {
   "cell_type": "markdown",
   "id": "textile-perfume",
   "metadata": {},
   "source": [
    "Вычисления будут по формуле Байеса.  \n",
    "Знаменаталеь - по формуле полной вероятности"
   ]
  },
  {
   "cell_type": "code",
   "execution_count": 86,
   "id": "cordless-parallel",
   "metadata": {},
   "outputs": [],
   "source": [
    "h = 0.25 * 0.8 + 0.25 * 0.7 + 0.5 * 0.9"
   ]
  },
  {
   "cell_type": "markdown",
   "id": "injured-municipality",
   "metadata": {},
   "source": [
    "для факультета А"
   ]
  },
  {
   "cell_type": "code",
   "execution_count": 87,
   "id": "allied-welcome",
   "metadata": {},
   "outputs": [
    {
     "data": {
      "text/plain": [
       "0.24242424242424246"
      ]
     },
     "execution_count": 87,
     "metadata": {},
     "output_type": "execute_result"
    }
   ],
   "source": [
    "P_a = 0.25 * 0.8/h\n",
    "P_a"
   ]
  },
  {
   "cell_type": "markdown",
   "id": "recent-november",
   "metadata": {},
   "source": [
    "для факультета В"
   ]
  },
  {
   "cell_type": "code",
   "execution_count": 89,
   "id": "criminal-campbell",
   "metadata": {},
   "outputs": [
    {
     "data": {
      "text/plain": [
       "0.21212121212121213"
      ]
     },
     "execution_count": 89,
     "metadata": {},
     "output_type": "execute_result"
    }
   ],
   "source": [
    "P_b = 0.25 * 0.7/h\n",
    "P_b"
   ]
  },
  {
   "cell_type": "markdown",
   "id": "tribal-percentage",
   "metadata": {},
   "source": [
    "для факультета С"
   ]
  },
  {
   "cell_type": "code",
   "execution_count": 90,
   "id": "adverse-norwegian",
   "metadata": {},
   "outputs": [
    {
     "data": {
      "text/plain": [
       "0.5454545454545455"
      ]
     },
     "execution_count": 90,
     "metadata": {},
     "output_type": "execute_result"
    }
   ],
   "source": [
    "P_c = 0.5 * 0.9/h\n",
    "P_c"
   ]
  },
  {
   "cell_type": "code",
   "execution_count": 91,
   "id": "prompt-hospital",
   "metadata": {},
   "outputs": [
    {
     "data": {
      "text/plain": [
       "1.0"
      ]
     },
     "execution_count": 91,
     "metadata": {},
     "output_type": "execute_result"
    }
   ],
   "source": [
    "P_a + P_b + P_c"
   ]
  },
  {
   "cell_type": "code",
   "execution_count": null,
   "id": "pointed-lawrence",
   "metadata": {},
   "outputs": [],
   "source": []
  }
 ],
 "metadata": {
  "kernelspec": {
   "display_name": "Python 3",
   "language": "python",
   "name": "python3"
  },
  "language_info": {
   "codemirror_mode": {
    "name": "ipython",
    "version": 3
   },
   "file_extension": ".py",
   "mimetype": "text/x-python",
   "name": "python",
   "nbconvert_exporter": "python",
   "pygments_lexer": "ipython3",
   "version": "3.9.1"
  }
 },
 "nbformat": 4,
 "nbformat_minor": 5
}
