{
 "cells": [
  {
   "cell_type": "code",
   "execution_count": 1,
   "id": "warming-arrangement",
   "metadata": {},
   "outputs": [],
   "source": [
    "import numpy as np\n",
    "import pandas as pd\n",
    "from scipy import stats"
   ]
  },
  {
   "cell_type": "code",
   "execution_count": 2,
   "id": "spanish-limitation",
   "metadata": {},
   "outputs": [],
   "source": [
    "from matplotlib import pyplot as plt"
   ]
  },
  {
   "cell_type": "markdown",
   "id": "comparative-syracuse",
   "metadata": {},
   "source": [
    "**Задача 1**\n",
    "\n",
    "Известно, что генеральная совокупность распределена нормально с известным средним квадратическим отклонением 16. Найти доверительный интервал для оценки математического ожидания mu с надёжностью 0.95, если выборочное среднее равно 80, а объём равен 256."
   ]
  },
  {
   "cell_type": "code",
   "execution_count": 25,
   "id": "governmental-emerald",
   "metadata": {},
   "outputs": [],
   "source": [
    "X = 80\n",
    "n = 256\n",
    "sigma = 16\n",
    "alpha = 1 - 0.95\n"
   ]
  },
  {
   "cell_type": "markdown",
   "id": "particular-tonight",
   "metadata": {},
   "source": [
    "Т.к. сигма известна, используем нормальное распределение\n",
    "$$Z = \\dfrac{\\overline{X} - \\mu}{\\sigma / \\sqrt{n}},$$"
   ]
  },
  {
   "cell_type": "code",
   "execution_count": 26,
   "id": "yellow-discovery",
   "metadata": {},
   "outputs": [],
   "source": [
    "def interval(X, t_left, t_right , n):\n",
    "    i_left = X + t_left*(sigma/(np.sqrt(n)))\n",
    "    i_right = X + t_right*(sigma/(np.sqrt(n)))\n",
    "    return i_left, i_right\n",
    "    "
   ]
  },
  {
   "cell_type": "code",
   "execution_count": 27,
   "id": "finite-subcommittee",
   "metadata": {},
   "outputs": [
    {
     "data": {
      "text/plain": [
       "(-1.959963984540054, 1.959963984540054)"
      ]
     },
     "execution_count": 27,
     "metadata": {},
     "output_type": "execute_result"
    }
   ],
   "source": [
    "t1 = stats.norm.ppf(alpha / 2)\n",
    "t2 = stats.norm.ppf(1 - alpha / 2)\n",
    "t1, t2"
   ]
  },
  {
   "cell_type": "code",
   "execution_count": 28,
   "id": "relative-microwave",
   "metadata": {},
   "outputs": [
    {
     "data": {
      "text/plain": [
       "(78.04003601545995, 81.95996398454005)"
      ]
     },
     "execution_count": 28,
     "metadata": {},
     "output_type": "execute_result"
    }
   ],
   "source": [
    "z = interval(X, t1, t2, n)\n",
    "z"
   ]
  },
  {
   "cell_type": "markdown",
   "id": "interesting-topic",
   "metadata": {},
   "source": [
    "Таким образом доверительный интервал 95% математического ожидания составляет от 78.04 до 81.96 "
   ]
  },
  {
   "cell_type": "markdown",
   "id": "organized-fireplace",
   "metadata": {},
   "source": [
    "**Задача 2**\n",
    "\n",
    "Продавец утверждает, что средний вес пачки печенья составляет 200 г. Из партии извлечена выборка из 10 пачек. Вес каждой пачки составляет:\n",
    "\n",
    "202, 203, 199, 197, 195, 201, 200, 204, 194, 190\n",
    "\n",
    "Известно, что их веса распределены нормально.\n",
    "1. Верно ли утверждение продавца, если учитывать, что уровень значимости равен 1%?\n",
    "2. Найдите P-значение для данного теста."
   ]
  },
  {
   "cell_type": "code",
   "execution_count": 29,
   "id": "helpful-surface",
   "metadata": {},
   "outputs": [],
   "source": [
    "samples = np.array([202, 203, 199, 197, 195, 201, 200, 204, 194, 190])\n",
    "n = samples.size\n",
    "X=samples.mean()"
   ]
  },
  {
   "cell_type": "code",
   "execution_count": 30,
   "id": "fossil-blues",
   "metadata": {},
   "outputs": [],
   "source": [
    "alpha = 0.01\n",
    "mu = 200\n",
    "sigma_x= samples.std(ddof=1)"
   ]
  },
  {
   "cell_type": "markdown",
   "id": "oriented-albany",
   "metadata": {},
   "source": [
    "Т.к. дисперсия неизвестна будем использовать t-критерий.\n",
    "$$t = \\dfrac{\\overline{X} - \\mu}{\\sigma_X / \\sqrt{n}},$$\n"
   ]
  },
  {
   "cell_type": "code",
   "execution_count": 31,
   "id": "confused-pillow",
   "metadata": {},
   "outputs": [],
   "source": [
    "def t_value (X, mu, sigma_x, n):\n",
    "    t = (X - mu)/((sigma_x/np.sqrt(n)))\n",
    "    return t"
   ]
  },
  {
   "cell_type": "markdown",
   "id": "monthly-biotechnology",
   "metadata": {},
   "source": [
    "Определяем левую и правую границы"
   ]
  },
  {
   "cell_type": "code",
   "execution_count": 32,
   "id": "gorgeous-missouri",
   "metadata": {},
   "outputs": [
    {
     "data": {
      "text/plain": [
       "-3.2498355440153697"
      ]
     },
     "execution_count": 32,
     "metadata": {},
     "output_type": "execute_result"
    }
   ],
   "source": [
    "t1 = stats.t.ppf(alpha / 2, df=n - 1)\n",
    "t1"
   ]
  },
  {
   "cell_type": "code",
   "execution_count": 33,
   "id": "victorian-sauce",
   "metadata": {},
   "outputs": [
    {
     "data": {
      "text/plain": [
       "3.2498355440153697"
      ]
     },
     "execution_count": 33,
     "metadata": {},
     "output_type": "execute_result"
    }
   ],
   "source": [
    "t2 = stats.t.ppf(1 - alpha / 2, df=n - 1)\n",
    "t2"
   ]
  },
  {
   "cell_type": "code",
   "execution_count": 34,
   "id": "accepted-bundle",
   "metadata": {
    "scrolled": true
   },
   "outputs": [
    {
     "data": {
      "text/plain": [
       "-1.0651074037450896"
      ]
     },
     "execution_count": 34,
     "metadata": {},
     "output_type": "execute_result"
    }
   ],
   "source": [
    "T = t_value(X, mu, sigma_x, n)\n",
    "T"
   ]
  },
  {
   "cell_type": "code",
   "execution_count": 36,
   "id": "fiscal-nancy",
   "metadata": {
    "scrolled": false
   },
   "outputs": [
    {
     "data": {
      "text/plain": [
       "<matplotlib.collections.PolyCollection at 0x1503ce432b0>"
      ]
     },
     "execution_count": 36,
     "metadata": {},
     "output_type": "execute_result"
    },
    {
     "data": {
      "image/png": "[encoded data removed]",
      "text/plain": [
       "<Figure size 432x288 with 1 Axes>"
      ]
     },
     "metadata": {
      "needs_background": "light"
     },
     "output_type": "display_data"
    }
   ],
   "source": [
    "ox = np.linspace(-4, 4, 500)\n",
    "oy = stats.t.pdf(ox, df=n - 1)\n",
    "\n",
    "ox_left = np.linspace(-4, t1, 100)\n",
    "oy_left = stats.t.pdf(ox_left, df=n - 1)\n",
    "\n",
    "ox_right = np.linspace(t2, 4, 100)\n",
    "oy_right = stats.t.pdf(ox_right, df=n - 1)\n",
    "\n",
    "plt.plot(ox, oy)\n",
    "plt.fill_between(ox_left, oy_left, alpha=0.5, color='C0')\n",
    "plt.fill_between(ox_right, oy_right, alpha=0.5, color='C0')"
   ]
  },
  {
   "cell_type": "markdown",
   "id": "friendly-picking",
   "metadata": {},
   "source": [
    "Т.к. величина T не находится внутри критичекой области, отвергать нулевую гипотезу нельзя."
   ]
  },
  {
   "cell_type": "markdown",
   "id": "adolescent-hours",
   "metadata": {},
   "source": [
    "Нахождение величины P"
   ]
  },
  {
   "cell_type": "code",
   "execution_count": 38,
   "id": "oriented-translator",
   "metadata": {},
   "outputs": [
    {
     "data": {
      "text/plain": [
       "0.3145666035247285"
      ]
     },
     "execution_count": 38,
     "metadata": {},
     "output_type": "execute_result"
    }
   ],
   "source": [
    "p_left = stats.t.cdf(t_value(X, mu, sigma_x, n), df=n - 1)\n",
    "p_right = 1 - stats.t.cdf(t_value(X, mu, sigma_x, n), df=n - 1)\n",
    "\n",
    "pvalue = 2 * min(p_left, p_right)\n",
    "\n",
    "pvalue"
   ]
  },
  {
   "cell_type": "markdown",
   "id": "formed-registrar",
   "metadata": {},
   "source": [
    "**Задача 3**\n",
    "\n",
    "Утверждается, что шарики для подшипников, изготовленные автоматическим станком, имеют средний диаметр 17 мм. Используя уровень значимости 0.025 и правостороннюю критическую область, проверить данную гипотезу при условии, что в выборке из 100 шариков средний диаметр оказался равным 17.5 мм, а дисперсия известна и равна 4 мм."
   ]
  },
  {
   "cell_type": "code",
   "execution_count": 3,
   "id": "adequate-saskatchewan",
   "metadata": {},
   "outputs": [],
   "source": [
    "alpha = 0.025\n",
    "n = 100\n",
    "var = 4\n",
    "mu = 17\n",
    "X=17.5"
   ]
  },
  {
   "cell_type": "markdown",
   "id": "packed-onion",
   "metadata": {},
   "source": [
    "В качестве нулевой гипотезы принимаем, что среднем значеним является 17 мм."
   ]
  },
  {
   "cell_type": "markdown",
   "id": "continuing-operations",
   "metadata": {},
   "source": [
    "т.к. дисперсия известна, то можно найти среднее квадратичное отклонение"
   ]
  },
  {
   "cell_type": "code",
   "execution_count": 4,
   "id": "respective-lunch",
   "metadata": {},
   "outputs": [],
   "source": [
    "sigma = np.sqrt(var)"
   ]
  },
  {
   "cell_type": "markdown",
   "id": "swiss-highway",
   "metadata": {},
   "source": [
    "Можем использовать нормальное распределение"
   ]
  },
  {
   "cell_type": "code",
   "execution_count": 5,
   "id": "color-montgomery",
   "metadata": {},
   "outputs": [],
   "source": [
    "def normal_z(X, mu, sigma , n):\n",
    "    Z= (X-mu)/(sigma/(np.sqrt(n)))\n",
    "    return Z"
   ]
  },
  {
   "cell_type": "code",
   "execution_count": 6,
   "id": "mature-earthquake",
   "metadata": {},
   "outputs": [
    {
     "data": {
      "text/plain": [
       "2.5"
      ]
     },
     "execution_count": 6,
     "metadata": {},
     "output_type": "execute_result"
    }
   ],
   "source": [
    "Z = normal_z(X, mu, sigma, n)\n",
    "Z"
   ]
  },
  {
   "cell_type": "code",
   "execution_count": 8,
   "id": "neither-energy",
   "metadata": {
    "scrolled": true
   },
   "outputs": [
    {
     "data": {
      "text/plain": [
       "0.006209665325776159"
      ]
     },
     "execution_count": 8,
     "metadata": {},
     "output_type": "execute_result"
    }
   ],
   "source": [
    "P_right = 1 - stats.norm.cdf(Z)\n",
    "P_right"
   ]
  },
  {
   "cell_type": "markdown",
   "id": "excess-exhibit",
   "metadata": {},
   "source": [
    "Уровень значимости alpha=0.025, что больше, чем полученное P значение = 0.007.  \n",
    "Следовательно, нулевая гипотеза не подтверждается."
   ]
  },
  {
   "cell_type": "markdown",
   "id": "weighted-probe",
   "metadata": {},
   "source": [
    "**Задача 4 (Дополнительно)**\n",
    "\n",
    "Дана выборка диаметров подшипников из примера 1 с занятия 5:\n",
    "\n",
    "samples = [0.6603, 0.9466, 0.5968, 1.3792, 1.5481, 0.7515, 1.0681, 1.1134,\n",
    "1.2088, 1.701 , 1.0282, 1.3579, 1.0191, 1.1784, 1.1168, 1.1372,\n",
    "0.7273, 1.3958, 0.8665, 1.5112, 1.161 , 1.0232, 1.0865, 1.02 ]\n",
    "\n",
    "Предполагая, что диаметры подшипников распределены нормально, проверьте гипотезу о том, что дисперсия случайной величины равна 0.0625 при уровне значимости alpha = 0.05. Что для этого нужно знать:\n",
    "1. Альтернативная гипотеза двухсторонняя.\n",
    "2. Статистика для теста: H = (n - 1) * sample_variance / variance, где n - число элементов в выборке, sample_variance - несмещённая оценка дисперсии, variance - утверждаемая нулевой гипотезой дисперсия.\n",
    "3. Эта статистика в предположении верности нулевой гипотезы имеет распределение хи-квадрат с параметром df = n - 1. Её квантили можно найти с помощью функции scipy.stats.chi2.ppf."
   ]
  },
  {
   "cell_type": "code",
   "execution_count": 10,
   "id": "departmental-utilization",
   "metadata": {},
   "outputs": [],
   "source": [
    "samples_four = np.array([0.6603, 0.9466, 0.5968, 1.3792, 1.5481, 0.7515, 1.0681, 1.1134, \n",
    "           1.2088, 1.701 , 1.0282, 1.3579, 1.0191, 1.1784, 1.1168, 1.1372, \n",
    "           0.7273, 1.3958, 0.8665, 1.5112, 1.161 , 1.0232, 1.0865, 1.02 ])"
   ]
  },
  {
   "cell_type": "code",
   "execution_count": 11,
   "id": "peaceful-agriculture",
   "metadata": {},
   "outputs": [],
   "source": [
    "def hi_stat(n, sample_var, var):\n",
    "    H = (n - 1)*sample_var/var\n",
    "    return H"
   ]
  },
  {
   "cell_type": "code",
   "execution_count": 12,
   "id": "protecting-portrait",
   "metadata": {},
   "outputs": [],
   "source": [
    "def sample_vars(array):\n",
    "    sample_var = array.var(ddof=1)\n",
    "    return sample_var"
   ]
  },
  {
   "cell_type": "code",
   "execution_count": 13,
   "id": "stainless-inside",
   "metadata": {},
   "outputs": [],
   "source": [
    "#def test_var(array):\n",
    "#    X = array.mean()    \n",
    "#    n = array.size    \n",
    "#    values = np.array([])\n",
    "#    for elem in array:\n",
    "#        value = (elem - X)**2        \n",
    "#        values = np.append(values, value)\n",
    "#    variance = values.sum()/(n - 1)\n",
    "#    return variance\n",
    "#test_var(samples_four)    "
   ]
  },
  {
   "cell_type": "code",
   "execution_count": 14,
   "id": "individual-worst",
   "metadata": {},
   "outputs": [],
   "source": [
    "alpha = 0.05\n",
    "var = 0.0625"
   ]
  },
  {
   "cell_type": "code",
   "execution_count": 15,
   "id": "skilled-apartment",
   "metadata": {},
   "outputs": [
    {
     "data": {
      "text/plain": [
       "0.25"
      ]
     },
     "execution_count": 15,
     "metadata": {},
     "output_type": "execute_result"
    }
   ],
   "source": [
    "sigma = np.sqrt(var)\n",
    "sigma"
   ]
  },
  {
   "cell_type": "code",
   "execution_count": 16,
   "id": "pursuant-humanity",
   "metadata": {},
   "outputs": [
    {
     "data": {
      "text/plain": [
       "1.1084541666666665"
      ]
     },
     "execution_count": 16,
     "metadata": {},
     "output_type": "execute_result"
    }
   ],
   "source": [
    "X = samples_four.mean()\n",
    "X"
   ]
  },
  {
   "cell_type": "code",
   "execution_count": 17,
   "id": "swedish-civilization",
   "metadata": {
    "scrolled": true
   },
   "outputs": [
    {
     "data": {
      "text/plain": [
       "24"
      ]
     },
     "execution_count": 17,
     "metadata": {},
     "output_type": "execute_result"
    }
   ],
   "source": [
    "n = samples_four.size\n",
    "n"
   ]
  },
  {
   "cell_type": "code",
   "execution_count": 18,
   "id": "european-bulletin",
   "metadata": {},
   "outputs": [
    {
     "data": {
      "text/plain": [
       "0.07804495041666669"
      ]
     },
     "execution_count": 18,
     "metadata": {},
     "output_type": "execute_result"
    }
   ],
   "source": [
    "sample_var = sample_vars(samples_four)\n",
    "sample_var"
   ]
  },
  {
   "cell_type": "code",
   "execution_count": 19,
   "id": "eastern-details",
   "metadata": {},
   "outputs": [
    {
     "data": {
      "text/plain": [
       "18.418872615402652"
      ]
     },
     "execution_count": 19,
     "metadata": {},
     "output_type": "execute_result"
    }
   ],
   "source": [
    "hi = hi_stat(n, var, sample_var)\n",
    "hi"
   ]
  },
  {
   "cell_type": "code",
   "execution_count": 138,
   "id": "possible-proposal",
   "metadata": {},
   "outputs": [
    {
     "data": {
      "text/plain": [
       "11.688551922452438"
      ]
     },
     "execution_count": 138,
     "metadata": {},
     "output_type": "execute_result"
    }
   ],
   "source": [
    "t1 = stats.chi2.ppf(alpha / 2, df=n - 1)\n",
    "t1"
   ]
  },
  {
   "cell_type": "code",
   "execution_count": 139,
   "id": "ahead-salmon",
   "metadata": {},
   "outputs": [
    {
     "data": {
      "text/plain": [
       "38.0756272503558"
      ]
     },
     "execution_count": 139,
     "metadata": {},
     "output_type": "execute_result"
    }
   ],
   "source": [
    "t2 = stats.chi2.ppf(1 - alpha / 2, df=n - 1)\n",
    "t2"
   ]
  },
  {
   "cell_type": "markdown",
   "id": "adopted-clear",
   "metadata": {},
   "source": [
    "Значение статистики hi=18.42, находится внутри интервала между правым и левым квантилями.\n",
    "Можно считать, что нулевая гипотеза верна."
   ]
  },
  {
   "cell_type": "code",
   "execution_count": null,
   "id": "surprised-frederick",
   "metadata": {},
   "outputs": [],
   "source": []
  }
 ],
 "metadata": {
  "kernelspec": {
   "display_name": "Python 3",
   "language": "python",
   "name": "python3"
  },
  "language_info": {
   "codemirror_mode": {
    "name": "ipython",
    "version": 3
   },
   "file_extension": ".py",
   "mimetype": "text/x-python",
   "name": "python",
   "nbconvert_exporter": "python",
   "pygments_lexer": "ipython3",
   "version": "3.9.1"
  }
 },
 "nbformat": 4,
 "nbformat_minor": 5
}
