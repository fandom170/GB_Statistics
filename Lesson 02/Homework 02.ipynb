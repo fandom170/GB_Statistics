{
 "cells": [
  {
   "cell_type": "code",
   "execution_count": 1,
   "id": "heavy-receiver",
   "metadata": {},
   "outputs": [],
   "source": [
    "import numpy as np\n",
    "from decimal import Decimal\n",
    "from scipy.stats import poisson\n",
    "from scipy.stats import binom"
   ]
  },
  {
   "cell_type": "code",
   "execution_count": 2,
   "id": "broke-aaron",
   "metadata": {},
   "outputs": [],
   "source": [
    "import scipy.stats as sps"
   ]
  },
  {
   "cell_type": "code",
   "execution_count": 3,
   "id": "dimensional-electricity",
   "metadata": {},
   "outputs": [],
   "source": [
    "import matplotlib.pyplot as plt"
   ]
  },
  {
   "cell_type": "code",
   "execution_count": 4,
   "id": "swiss-canberra",
   "metadata": {},
   "outputs": [],
   "source": [
    "from math import *"
   ]
  },
  {
   "cell_type": "code",
   "execution_count": 70,
   "id": "thirty-animation",
   "metadata": {},
   "outputs": [],
   "source": [
    "def combination (m, n):\n",
    "    c = np.math.factorial(n)//(np.math.factorial(m)*np.math.factorial(n - m))\n",
    "    return c"
   ]
  },
  {
   "cell_type": "code",
   "execution_count": 6,
   "id": "nominated-jordan",
   "metadata": {},
   "outputs": [],
   "source": [
    "def bernulli (k, n, p):\n",
    "    P = combination(k, n) * p**k * (1-p)**(n-k)\n",
    "    return P"
   ]
  },
  {
   "cell_type": "code",
   "execution_count": 73,
   "id": "emerging-clerk",
   "metadata": {},
   "outputs": [],
   "source": [
    "def p_poisson(k, p_lambda):\n",
    "    P = (p_lambda**k) * (np.exp(-p_lambda))/np.math.factorial(k)\n",
    "    return P"
   ]
  },
  {
   "cell_type": "markdown",
   "id": "imperial-harvey",
   "metadata": {},
   "source": [
    "**Задача 1**"
   ]
  },
  {
   "cell_type": "markdown",
   "id": "sweet-bosnia",
   "metadata": {},
   "source": [
    "Контрольная работа состоит из пяти вопросов. На каждый вопрос приведено четыре варианта ответа, один из которых правильный. Составьте закон распределения числа правильных ответов при простом угадывании. Найдите `M(X)`, `D(X)`."
   ]
  },
  {
   "cell_type": "markdown",
   "id": "innovative-picture",
   "metadata": {},
   "source": [
    "Считаем, что выбор правильного ответа случаен для любого из вопросов и вероятность выбора правильного ответа одинакова для всех вопросов и соотетствует 1/4.  \n",
    "Можно считать, что распределение биноминальное.  \n",
    "Для данного случая иммет смысл пользоваться формулой Бернулли со следующими параметрами n = 4, p = 1/4 (0.25), k=0...4, где к - количество правильных ответов.\n",
    "\n"
   ]
  },
  {
   "cell_type": "code",
   "execution_count": 8,
   "id": "productive-baseball",
   "metadata": {},
   "outputs": [
    {
     "name": "stdout",
     "output_type": "stream",
     "text": [
      "0.31640625\n",
      "0.421875\n",
      "0.2109375\n",
      "0.046875\n",
      "0.00390625\n"
     ]
    }
   ],
   "source": [
    "for k in range(5):\n",
    "    r = bernulli(k, 4, 0.25)\n",
    "    print(r)"
   ]
  },
  {
   "cell_type": "markdown",
   "id": "greek-solution",
   "metadata": {},
   "source": [
    "Таким образом распределение вероятности выбора определенного количества правильных ответов x будет:\n",
    "<table border=\"3\">\n",
    "    <tr>\n",
    "        <td>k</td>\n",
    "        <td>0</td>\n",
    "        <td>1</td>\n",
    "        <td>2</td>\n",
    "        <td>3</td>\n",
    "        <td>4</td>\n",
    "    </tr>\n",
    "    <tr>\n",
    "        <td>P(X=k)</td>\n",
    "        <td>0.31640625</td>\n",
    "        <td>0.421875</td>\n",
    "        <td>0.2109375</td>\n",
    "        <td>0.046875</td>\n",
    "        <td>0.00390625</td>\n",
    "    </tr>\n",
    "</table>"
   ]
  },
  {
   "cell_type": "markdown",
   "id": "medium-optics",
   "metadata": {},
   "source": [
    "Математическое ожидание для биноминалього распределения:  \n",
    "M(X) = np"
   ]
  },
  {
   "cell_type": "code",
   "execution_count": 9,
   "id": "cloudy-planning",
   "metadata": {},
   "outputs": [
    {
     "name": "stdout",
     "output_type": "stream",
     "text": [
      "1.0\n"
     ]
    }
   ],
   "source": [
    "math_expect = 4 * 0.25\n",
    "print(math_expect)"
   ]
  },
  {
   "cell_type": "markdown",
   "id": "planned-johnson",
   "metadata": {},
   "source": [
    "Дисперсия для биноминального распределения:"
   ]
  },
  {
   "cell_type": "code",
   "execution_count": 10,
   "id": "measured-august",
   "metadata": {},
   "outputs": [
    {
     "name": "stdout",
     "output_type": "stream",
     "text": [
      "0.75\n"
     ]
    }
   ],
   "source": [
    "D = 4 * 0.25 * (1-0.25)\n",
    "print(D)"
   ]
  },
  {
   "cell_type": "markdown",
   "id": "external-hebrew",
   "metadata": {},
   "source": [
    "**Задача 2**"
   ]
  },
  {
   "cell_type": "markdown",
   "id": "upset-elimination",
   "metadata": {},
   "source": [
    "Вероятность поймать рыбу при одном забрасывании удочки равна 0.01. Какова вероятность того, что число пойманных рыб при 200 забросах удочки будет не менее 5 и не более 10?"
   ]
  },
  {
   "cell_type": "markdown",
   "id": "qualified-folks",
   "metadata": {},
   "source": [
    "Для данного случая подходит распределение Пуассона.  \n",
    "$λ = np$.  \n",
    "p = 0.25  \n",
    "n = 200  \n",
    "5 <= k <= 10"
   ]
  },
  {
   "cell_type": "code",
   "execution_count": 11,
   "id": "wound-cancer",
   "metadata": {
    "scrolled": true
   },
   "outputs": [
    {
     "name": "stdout",
     "output_type": "stream",
     "text": [
      "2.0\n"
     ]
    }
   ],
   "source": [
    "p_lambda = 200 * 0.01\n",
    "print(p_lambda)"
   ]
  },
  {
   "cell_type": "markdown",
   "id": "determined-croatia",
   "metadata": {},
   "source": [
    "Затем складываем вероятности для каждого из событий в интервали от 5 до 10 (вулючительно):"
   ]
  },
  {
   "cell_type": "code",
   "execution_count": 12,
   "id": "human-noise",
   "metadata": {},
   "outputs": [
    {
     "name": "stdout",
     "output_type": "stream",
     "text": [
      "0.03608940886309672\n",
      "0.012029802954365574\n",
      "0.0034370865583901638\n",
      "0.0008592716395975409\n",
      "0.00019094925324389798\n",
      "3.8189850648779595e-05\n"
     ]
    }
   ],
   "source": [
    "total = 0\n",
    "for i in range (5, 11):\n",
    "    probability = p_poisson(i, p_lambda)\n",
    "    print(probability)\n",
    "    total += probability"
   ]
  },
  {
   "cell_type": "code",
   "execution_count": 13,
   "id": "authentic-forestry",
   "metadata": {},
   "outputs": [
    {
     "name": "stdout",
     "output_type": "stream",
     "text": [
      "Общая вероятность выловить от 5 до 10 (включительно) рыб при данных параметрах составляет 5.2645 %\n"
     ]
    }
   ],
   "source": [
    "print(f\"Общая вероятность выловить от 5 до 10 (включительно) рыб при данных параметрах составляет {round(total, 6) * 100} %\")"
   ]
  },
  {
   "cell_type": "markdown",
   "id": "finite-prototype",
   "metadata": {},
   "source": [
    "**Задача 3**"
   ]
  },
  {
   "cell_type": "markdown",
   "id": "grave-occasions",
   "metadata": {},
   "source": [
    "В условиях предыдущей задачи сколько забросов удочки нужно сделать чтобы быть уверенным с вероятностью 0.9, что хотя бы 10 раз будет поймана рыба?\n",
    "\n",
    "_Подсказка_. Как посчитать `P(X >= k)` для величины `X`, имеющей биномиальное распределение? Здесь предстоит немножко покодить.\n"
   ]
  },
  {
   "cell_type": "markdown",
   "id": "genuine-planning",
   "metadata": {},
   "source": [
    "Суммарная вероятность = 0.9, i = 10"
   ]
  },
  {
   "cell_type": "markdown",
   "id": "surface-london",
   "metadata": {},
   "source": [
    "P(X=n) = 0.9  \n",
    "n=?"
   ]
  },
  {
   "cell_type": "code",
   "execution_count": null,
   "id": "prime-campbell",
   "metadata": {
    "scrolled": false
   },
   "outputs": [],
   "source": [
    "p = 0.01\n",
    "k = 10"
   ]
  },
  {
   "cell_type": "markdown",
   "id": "unauthorized-lawsuit",
   "metadata": {},
   "source": [
    "С учетом условия задачи рыба должна быть поймана 10 раз или больше, т.е. допустимо решать обратную задачу: т.е. сколько раз нужно закинуть удочку, чтобы поймать меньше 10 рыб."
   ]
  },
  {
   "cell_type": "markdown",
   "id": "empty-governor",
   "metadata": {},
   "source": [
    "P(X >= 10) = 1 - P(X < 10)"
   ]
  },
  {
   "cell_type": "markdown",
   "id": "collective-square",
   "metadata": {},
   "source": [
    "Суммируем вероятности. Задачу можно попробовать решить методом численного перебора для любого из вариантов распределения.\n",
    "Пойдем используя тот же метод Пуассона, что для предыдущей задачи."
   ]
  },
  {
   "cell_type": "code",
   "execution_count": 92,
   "id": "imposed-scope",
   "metadata": {},
   "outputs": [
    {
     "name": "stdout",
     "output_type": "stream",
     "text": [
      "Полученное значение вероятности 0.009996913843001165 достигнуто при 413 попытках\n",
      "Полученное значение вероятности 0.010152765154710752 достигнуто при 414 попытках\n"
     ]
    }
   ],
   "source": [
    "for n in range (300, 500):\n",
    "    p_lambda = 0.01 * n\n",
    "    P = 1 - sum(p_poisson(i, p_lambda) for i in range(10))    \n",
    "    if P > 0.0099 and P < 0.01:        \n",
    "        print(f\"Полученное значение вероятности {P} достигнуто при {n} попытках\")\n",
    "    if P > 0.01:        \n",
    "        print(f\"Полученное значение вероятности {P} достигнуто при {n} попытках\")\n",
    "        break\n",
    "        \n"
   ]
  },
  {
   "cell_type": "markdown",
   "id": "subject-posting",
   "metadata": {},
   "source": [
    "Таким образом для выполнения условий задачи необходимо порядка 413-414 попыток."
   ]
  },
  {
   "cell_type": "code",
   "execution_count": null,
   "id": "convertible-crowd",
   "metadata": {},
   "outputs": [],
   "source": []
  },
  {
   "cell_type": "code",
   "execution_count": null,
   "id": "significant-gross",
   "metadata": {},
   "outputs": [],
   "source": []
  }
 ],
 "metadata": {
  "kernelspec": {
   "display_name": "Python 3",
   "language": "python",
   "name": "python3"
  },
  "language_info": {
   "codemirror_mode": {
    "name": "ipython",
    "version": 3
   },
   "file_extension": ".py",
   "mimetype": "text/x-python",
   "name": "python",
   "nbconvert_exporter": "python",
   "pygments_lexer": "ipython3",
   "version": "3.9.1"
  }
 },
 "nbformat": 4,
 "nbformat_minor": 5
}
