{
 "cells": [
  {
   "cell_type": "code",
   "execution_count": 1,
   "id": "elect-spain",
   "metadata": {},
   "outputs": [],
   "source": [
    "import numpy as np\n",
    "import pandas as pd\n",
    "from scipy import stats"
   ]
  },
  {
   "cell_type": "markdown",
   "id": "separated-shakespeare",
   "metadata": {},
   "source": [
    "__Задача 1__\n",
    "\n",
    "Даны значения величины заработной платы заемщиков банка (`salary`) и значения их поведенческого кредитного скоринга (`scoring`):\n",
    "```\n",
    "salary = [35, 45, 190, 200, 40, 70, 54, 150, 120, 110]\n",
    "scoring = [401, 574, 874, 919, 459, 739, 653, 902, 746, 832]\n",
    "```\n",
    "1. Найдите ковариацию этих двух величин: сначала без использования специальных функций, а затем с помощью функции `numpy.cov`. Полученные значения должны быть равны.\n",
    "2. Найдите коэффициент корреляции Пирсона: с помощью ковариации и средних квадратических отклонений двух признаков, а затем с помощью специальных функций из библиотек `numpy` и `pandas`.\n",
    "\n"
   ]
  },
  {
   "cell_type": "code",
   "execution_count": 4,
   "id": "sharing-nylon",
   "metadata": {},
   "outputs": [],
   "source": [
    "salary = np.array([35, 45, 190, 200, 40, 70, 54, 150, 120, 110])"
   ]
  },
  {
   "cell_type": "code",
   "execution_count": 5,
   "id": "joint-season",
   "metadata": {},
   "outputs": [],
   "source": [
    "scoring = np.array([401, 574, 874, 919, 459, 739, 653, 902, 746, 832])"
   ]
  },
  {
   "cell_type": "markdown",
   "id": "serial-harbor",
   "metadata": {},
   "source": [
    "Ручной расчет ковариации"
   ]
  },
  {
   "cell_type": "code",
   "execution_count": 12,
   "id": "opponent-throat",
   "metadata": {},
   "outputs": [],
   "source": [
    "def covariance(array_1, array_2):\n",
    "    MX = array_1.mean()\n",
    "    MY = array_2.mean()\n",
    "    return ((array_1 - MX)*(array_2 - MY)).sum()/(len(array_1)-1)\n",
    "        "
   ]
  },
  {
   "cell_type": "code",
   "execution_count": 13,
   "id": "facial-discussion",
   "metadata": {},
   "outputs": [
    {
     "data": {
      "text/plain": [
       "10175.37777777778"
      ]
     },
     "execution_count": 13,
     "metadata": {},
     "output_type": "execute_result"
    }
   ],
   "source": [
    "covariance(salary, scoring)"
   ]
  },
  {
   "cell_type": "markdown",
   "id": "computational-librarian",
   "metadata": {},
   "source": [
    "Ковариация с использованием стандартной функции"
   ]
  },
  {
   "cell_type": "code",
   "execution_count": 11,
   "id": "freelance-peoples",
   "metadata": {
    "scrolled": true
   },
   "outputs": [
    {
     "data": {
      "text/plain": [
       "array([[ 3882.93333333, 10175.37777778],\n",
       "       [10175.37777778, 33854.32222222]])"
      ]
     },
     "execution_count": 11,
     "metadata": {},
     "output_type": "execute_result"
    }
   ],
   "source": [
    "np.cov(salary, scoring)"
   ]
  },
  {
   "cell_type": "markdown",
   "id": "seventh-protein",
   "metadata": {},
   "source": [
    "**Коэффициент Пирсона**"
   ]
  },
  {
   "cell_type": "markdown",
   "id": "toxic-blast",
   "metadata": {},
   "source": [
    "$$r_{XY} = \\dfrac{\\sigma_{XY}}{\\sigma_X \\cdot \\sigma_Y}$$"
   ]
  },
  {
   "cell_type": "code",
   "execution_count": 36,
   "id": "found-institute",
   "metadata": {},
   "outputs": [],
   "source": [
    "cov = covariance(salary, scoring)"
   ]
  },
  {
   "cell_type": "markdown",
   "id": "endless-speaking",
   "metadata": {},
   "source": [
    "считаем среднеквадратическое отклонение для выборки"
   ]
  },
  {
   "cell_type": "code",
   "execution_count": 69,
   "id": "flexible-hazard",
   "metadata": {},
   "outputs": [],
   "source": [
    "def sigma_calc(array):\n",
    "    mean = array.mean()\n",
    "    n = array.size - 1\n",
    "    total = 0\n",
    "    for elem in array:\n",
    "        total += (elem - mean)**2\n",
    "    return np.sqrt(total/n)"
   ]
  },
  {
   "cell_type": "markdown",
   "id": "prescription-opening",
   "metadata": {},
   "source": [
    "проверка при помощи станлартной функции"
   ]
  },
  {
   "cell_type": "code",
   "execution_count": 70,
   "id": "adolescent-format",
   "metadata": {},
   "outputs": [
    {
     "data": {
      "text/plain": [
       "62.31318747531162"
      ]
     },
     "execution_count": 70,
     "metadata": {},
     "output_type": "execute_result"
    }
   ],
   "source": [
    "salary.std(ddof = 1)"
   ]
  },
  {
   "cell_type": "markdown",
   "id": "suspected-tiger",
   "metadata": {},
   "source": [
    "расчеты"
   ]
  },
  {
   "cell_type": "code",
   "execution_count": 71,
   "id": "integrated-multimedia",
   "metadata": {},
   "outputs": [
    {
     "data": {
      "text/plain": [
       "62.31318747531162"
      ]
     },
     "execution_count": 71,
     "metadata": {},
     "output_type": "execute_result"
    }
   ],
   "source": [
    "sigma_salary = sigma_calc(salary)\n",
    "sigma_salary"
   ]
  },
  {
   "cell_type": "code",
   "execution_count": 72,
   "id": "varied-barcelona",
   "metadata": {
    "scrolled": true
   },
   "outputs": [
    {
     "data": {
      "text/plain": [
       "183.99544076477068"
      ]
     },
     "execution_count": 72,
     "metadata": {},
     "output_type": "execute_result"
    }
   ],
   "source": [
    "sigma_scoring = sigma_calc(scoring)\n",
    "sigma_scoring"
   ]
  },
  {
   "cell_type": "markdown",
   "id": "exempt-nation",
   "metadata": {},
   "source": [
    "расчет коэффициента Пирсона"
   ]
  },
  {
   "cell_type": "code",
   "execution_count": 74,
   "id": "spatial-burner",
   "metadata": {},
   "outputs": [
    {
     "data": {
      "text/plain": [
       "0.8874900920739164"
      ]
     },
     "execution_count": 74,
     "metadata": {},
     "output_type": "execute_result"
    }
   ],
   "source": [
    "pirson = (cov)/(sigma_salary * sigma_scoring)\n",
    "pirson"
   ]
  },
  {
   "cell_type": "markdown",
   "id": "received-chemical",
   "metadata": {},
   "source": [
    "При помощи стандартных функций"
   ]
  },
  {
   "cell_type": "code",
   "execution_count": 35,
   "id": "variable-gathering",
   "metadata": {},
   "outputs": [
    {
     "data": {
      "text/plain": [
       "array([[1.        , 0.88749009],\n",
       "       [0.88749009, 1.        ]])"
      ]
     },
     "execution_count": 35,
     "metadata": {},
     "output_type": "execute_result"
    }
   ],
   "source": [
    "np.corrcoef(salary, scoring)"
   ]
  },
  {
   "cell_type": "markdown",
   "id": "chronic-surname",
   "metadata": {},
   "source": [
    "Величины находятся достаточно близко ."
   ]
  },
  {
   "cell_type": "code",
   "execution_count": null,
   "id": "unsigned-hollywood",
   "metadata": {},
   "outputs": [],
   "source": []
  },
  {
   "cell_type": "markdown",
   "id": "scientific-spiritual",
   "metadata": {},
   "source": [
    "__Задача 2__\n",
    "\n",
    "Измерены значения IQ выборки студентов, обучающихся в местных технических вузах:\n",
    "```\n",
    "131, 125, 115, 122, 131, 115, 107, 99, 125, 111\n",
    "```\n",
    "Известно, что в генеральной совокупности IQ распределен нормально. Найдите доверительный интервал для математического ожидания с надежностью 0.95.\n",
    "\n"
   ]
  },
  {
   "cell_type": "code",
   "execution_count": 14,
   "id": "welcome-mambo",
   "metadata": {},
   "outputs": [],
   "source": [
    "iq_list = np.array([131, 125, 115, 122, 131, 115, 107, 99, 125, 111])"
   ]
  },
  {
   "cell_type": "code",
   "execution_count": 15,
   "id": "subsequent-board",
   "metadata": {},
   "outputs": [],
   "source": [
    "alpha = 1-0.95"
   ]
  },
  {
   "cell_type": "code",
   "execution_count": 18,
   "id": "romance-behalf",
   "metadata": {},
   "outputs": [],
   "source": [
    "n = iq_list.shape[0]"
   ]
  },
  {
   "cell_type": "markdown",
   "id": "proved-comparative",
   "metadata": {},
   "source": [
    "Т.к. дисперсии или среднеквадратичного отклонения нет в условии, имеет смысл попробовать использовать критерий Стьюдента"
   ]
  },
  {
   "cell_type": "markdown",
   "id": "union-concern",
   "metadata": {},
   "source": [
    "считаем квантили для заданной вероятности"
   ]
  },
  {
   "cell_type": "code",
   "execution_count": 20,
   "id": "sporting-wayne",
   "metadata": {},
   "outputs": [
    {
     "data": {
      "text/plain": [
       "(-2.2621571627409915, 2.2621571627409915)"
      ]
     },
     "execution_count": 20,
     "metadata": {},
     "output_type": "execute_result"
    }
   ],
   "source": [
    "t1 = stats.t.ppf(alpha / 2, df=n - 1)\n",
    "t2 = stats.t.ppf(1 - alpha / 2, df=n - 1)\n",
    "\n",
    "t1, t2"
   ]
  },
  {
   "cell_type": "code",
   "execution_count": 23,
   "id": "nutritional-valuation",
   "metadata": {
    "scrolled": false
   },
   "outputs": [
    {
     "data": {
      "text/plain": [
       "(118.1, 10.54566788359614)"
      ]
     },
     "execution_count": 23,
     "metadata": {},
     "output_type": "execute_result"
    }
   ],
   "source": [
    "mean = iq_list.mean()\n",
    "std = iq_list.std(ddof=1)\n",
    "mean, std"
   ]
  },
  {
   "cell_type": "markdown",
   "id": "adopted-convention",
   "metadata": {},
   "source": [
    "Считаем доверительный интервал для рассчитаных значений квантилей и статистических показателей"
   ]
  },
  {
   "cell_type": "code",
   "execution_count": 24,
   "id": "vietnamese-michael",
   "metadata": {
    "scrolled": true
   },
   "outputs": [
    {
     "data": {
      "text/plain": [
       "(110.55608365158724, 125.64391634841274)"
      ]
     },
     "execution_count": 24,
     "metadata": {},
     "output_type": "execute_result"
    }
   ],
   "source": [
    "(mean + t1 * std / np.sqrt(n), mean + t2 * std / np.sqrt(n))"
   ]
  },
  {
   "cell_type": "code",
   "execution_count": null,
   "id": "satisfied-teacher",
   "metadata": {},
   "outputs": [],
   "source": []
  },
  {
   "cell_type": "markdown",
   "id": "alone-daniel",
   "metadata": {},
   "source": [
    "__Задача 3__\n",
    "\n",
    "Известно, что рост футболистов в сборной распределен нормально с известной дисперсией 25. На выборке объёма 27 выборочное среднее составило 174.2. Найдите доверительный интервал для математического ожидания с надежностью 0.95.\n",
    "\n"
   ]
  },
  {
   "cell_type": "code",
   "execution_count": 76,
   "id": "subsequent-jordan",
   "metadata": {},
   "outputs": [],
   "source": [
    "var = 25\n",
    "n = 27\n",
    "mean = 174.2\n",
    "alpha = 1 - 0.95\n",
    "scale = np.sqrt(var)"
   ]
  },
  {
   "cell_type": "markdown",
   "id": "right-submission",
   "metadata": {},
   "source": [
    "Т.к. параметры нам известны, можно использовать z критерий для нормального распределения"
   ]
  },
  {
   "cell_type": "markdown",
   "id": "unauthorized-pipeline",
   "metadata": {},
   "source": [
    "Рассчитываем квантили при помощи стандартных функций.  "
   ]
  },
  {
   "cell_type": "code",
   "execution_count": 84,
   "id": "accessory-hampton",
   "metadata": {},
   "outputs": [
    {
     "data": {
      "text/plain": [
       "(-1.959963984540054, 1.959963984540054)"
      ]
     },
     "execution_count": 84,
     "metadata": {},
     "output_type": "execute_result"
    }
   ],
   "source": [
    "t1 = stats.norm.ppf(alpha/2)\n",
    "t2 = stats.norm.ppf(1 - alpha/2)\n",
    "t1, t2"
   ]
  },
  {
   "cell_type": "markdown",
   "id": "bottom-memory",
   "metadata": {},
   "source": [
    "Определяем доверительный интервал."
   ]
  },
  {
   "cell_type": "code",
   "execution_count": 85,
   "id": "retained-minimum",
   "metadata": {},
   "outputs": [
    {
     "data": {
      "text/plain": [
       "(172.3140237765397, 176.08597622346028)"
      ]
     },
     "execution_count": 85,
     "metadata": {},
     "output_type": "execute_result"
    }
   ],
   "source": [
    "(mean + t1 * scale / np.sqrt(n), mean + t2 * scale / np.sqrt(n))"
   ]
  },
  {
   "cell_type": "code",
   "execution_count": null,
   "id": "thick-registrar",
   "metadata": {},
   "outputs": [],
   "source": []
  }
 ],
 "metadata": {
  "kernelspec": {
   "display_name": "Python 3",
   "language": "python",
   "name": "python3"
  },
  "language_info": {
   "codemirror_mode": {
    "name": "ipython",
    "version": 3
   },
   "file_extension": ".py",
   "mimetype": "text/x-python",
   "name": "python",
   "nbconvert_exporter": "python",
   "pygments_lexer": "ipython3",
   "version": "3.9.1"
  }
 },
 "nbformat": 4,
 "nbformat_minor": 5
}
